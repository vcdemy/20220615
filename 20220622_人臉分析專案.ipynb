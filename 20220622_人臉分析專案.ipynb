{
  "nbformat": 4,
  "nbformat_minor": 0,
  "metadata": {
    "colab": {
      "name": "20220623 - 人臉分析專案.ipynb",
      "provenance": [],
      "collapsed_sections": [],
      "authorship_tag": "ABX9TyPaXCpooMKqNz5dqegINXMi",
      "include_colab_link": true
    },
    "kernelspec": {
      "name": "python3",
      "display_name": "Python 3"
    },
    "language_info": {
      "name": "python"
    }
  },
  "cells": [
    {
      "cell_type": "markdown",
      "metadata": {
        "id": "view-in-github",
        "colab_type": "text"
      },
      "source": [
        "<a href=\"https://colab.research.google.com/github/vcdemy/2022_Summer_Camp_01/blob/main/20220622_%E4%BA%BA%E8%87%89%E5%88%86%E6%9E%90%E5%B0%88%E6%A1%88.ipynb\" target=\"_parent\"><img src=\"https://colab.research.google.com/assets/colab-badge.svg\" alt=\"Open In Colab\"/></a>"
      ]
    },
    {
      "cell_type": "markdown",
      "source": [
        "# 人臉分析 Project\n",
        "\n",
        "* [deepface](https://github.com/serengil/deepface)\n",
        "* [gradio](https://gradio.app/)"
      ],
      "metadata": {
        "id": "cL1wM7UbMEyC"
      }
    },
    {
      "cell_type": "code",
      "execution_count": null,
      "metadata": {
        "id": "fQoVKSol5v_m"
      },
      "outputs": [],
      "source": [
        "!pip install deepface"
      ]
    },
    {
      "cell_type": "code",
      "source": [
        "from deepface import DeepFace"
      ],
      "metadata": {
        "id": "2OTHuuNm7MNt"
      },
      "execution_count": null,
      "outputs": []
    },
    {
      "cell_type": "code",
      "source": [
        "obj = DeepFace.analyze(img_path = \"download.png\", actions = ['age', 'gender', 'race', 'emotion'])"
      ],
      "metadata": {
        "id": "RuGcEEh87cMF"
      },
      "execution_count": null,
      "outputs": []
    },
    {
      "cell_type": "code",
      "source": [
        "obj"
      ],
      "metadata": {
        "id": "G5p4Z6lS8EAR"
      },
      "execution_count": null,
      "outputs": []
    },
    {
      "cell_type": "code",
      "source": [
        "f\"A {obj['dominant_race']} {obj['gender']} \""
      ],
      "metadata": {
        "id": "2xmj-GVsKmmm"
      },
      "execution_count": null,
      "outputs": []
    },
    {
      "cell_type": "code",
      "source": [
        "obj['gender'] + str(obj['age'])"
      ],
      "metadata": {
        "id": "DQdbU1VUNUHA"
      },
      "execution_count": null,
      "outputs": []
    },
    {
      "cell_type": "code",
      "source": [
        "type(obj)"
      ],
      "metadata": {
        "id": "qBy3FRxgDx36"
      },
      "execution_count": null,
      "outputs": []
    },
    {
      "cell_type": "code",
      "source": [
        "obj['age']"
      ],
      "metadata": {
        "id": "Gt7wjvsiEFAJ"
      },
      "execution_count": null,
      "outputs": []
    },
    {
      "cell_type": "code",
      "source": [
        "from PIL import Image"
      ],
      "metadata": {
        "id": "B1qEZEls8Ese"
      },
      "execution_count": null,
      "outputs": []
    },
    {
      "cell_type": "code",
      "source": [
        "im = Image.open(\"download.png\")"
      ],
      "metadata": {
        "id": "8hgn3atl8Uv9"
      },
      "execution_count": null,
      "outputs": []
    },
    {
      "cell_type": "code",
      "source": [
        "im"
      ],
      "metadata": {
        "id": "5NtklYop8YGt"
      },
      "execution_count": null,
      "outputs": []
    },
    {
      "cell_type": "markdown",
      "source": [
        "# 使用 gradio 建立測試介面"
      ],
      "metadata": {
        "id": "iLPDK_8vkpJi"
      }
    },
    {
      "cell_type": "code",
      "source": [
        "!pip install gradio"
      ],
      "metadata": {
        "id": "0e5zFzcP8ZEW"
      },
      "execution_count": null,
      "outputs": []
    },
    {
      "cell_type": "markdown",
      "source": [
        "## 範例一"
      ],
      "metadata": {
        "id": "HvKog8iLkyBa"
      }
    },
    {
      "cell_type": "code",
      "source": [
        "import gradio as gr\n",
        "\n",
        "def analyze(image):\n",
        "    obj = DeepFace.analyze(image, actions = ['age', 'gender', 'race', 'emotion'])\n",
        "    s = f\"{obj['dominant_race']} {obj['gender']}\"\n",
        "    return s\n",
        "\n",
        "demo = gr.Interface(fn=analyze, \n",
        "                    inputs=\"image\", \n",
        "                    outputs=\"text\", \n",
        "                    title=\"人臉分析\",\n",
        "                    description=\"請選擇圖片，點擊 submit！\")\n",
        "\n",
        "demo.launch(share=True)"
      ],
      "metadata": {
        "id": "moto38BV8ndN"
      },
      "execution_count": null,
      "outputs": []
    },
    {
      "cell_type": "markdown",
      "source": [
        "## 範例二"
      ],
      "metadata": {
        "id": "ujGvp22yk1s2"
      }
    },
    {
      "cell_type": "code",
      "source": [
        "from PIL import Image\n",
        "import numpy as np\n",
        "\n",
        "def rearrangeRGB(image):\n",
        "  im = Image.fromarray(image)\n",
        "  r, g, b = im.split()\n",
        "  new_im = Image.merge(\"RGB\",[b, g, r])\n",
        "  # new_im = im.transpose(Image.FLIP_LEFT_RIGHT)\n",
        "  return np.array(new_im)\n",
        "\n",
        "demo = gr.Interface(fn=rearrangeRGB, \n",
        "                    inputs=\"image\", \n",
        "                    outputs=\"image\", \n",
        "                    title=\"轉換色層\",\n",
        "                    description=\"請選擇圖片，點擊 submit！\")\n",
        "\n",
        "demo.launch(share=True)"
      ],
      "metadata": {
        "id": "-UpWnXh5YnIk"
      },
      "execution_count": null,
      "outputs": []
    },
    {
      "cell_type": "markdown",
      "source": [
        "## 範例三"
      ],
      "metadata": {
        "id": "nNc3XrSOk4Ef"
      }
    },
    {
      "cell_type": "code",
      "source": [
        "a = {'cat':\"貓咪\", 'dog':'狗狗'}\n",
        "\n",
        "def lookup(word):\n",
        "  return a[word]\n",
        "\n",
        "demo = gr.Interface(fn=lookup, \n",
        "                    inputs=\"text\", \n",
        "                    outputs=\"text\", \n",
        "                    title=\"字典查詢\",\n",
        "                    description=\"請輸入欲查詢單字，點擊 submit！\")\n",
        "\n",
        "demo.launch(share=True)"
      ],
      "metadata": {
        "id": "PmUk46nNbs2S"
      },
      "execution_count": null,
      "outputs": []
    }
  ]
}