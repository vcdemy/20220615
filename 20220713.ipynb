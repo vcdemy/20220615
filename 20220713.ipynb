{
  "nbformat": 4,
  "nbformat_minor": 0,
  "metadata": {
    "colab": {
      "name": "20220713.ipynb",
      "provenance": [],
      "authorship_tag": "ABX9TyMG2apcvjOI457Zp1QItMdV",
      "include_colab_link": true
    },
    "kernelspec": {
      "name": "python3",
      "display_name": "Python 3"
    },
    "language_info": {
      "name": "python"
    }
  },
  "cells": [
    {
      "cell_type": "markdown",
      "metadata": {
        "id": "view-in-github",
        "colab_type": "text"
      },
      "source": [
        "<a href=\"https://colab.research.google.com/github/vcdemy/2022_Summer_Camp_01/blob/main/20220713.ipynb\" target=\"_parent\"><img src=\"https://colab.research.google.com/assets/colab-badge.svg\" alt=\"Open In Colab\"/></a>"
      ]
    },
    {
      "cell_type": "markdown",
      "source": [
        "# 20220713"
      ],
      "metadata": {
        "id": "NhT6KDGRGkVz"
      }
    },
    {
      "cell_type": "markdown",
      "source": [
        "## 20220711 - 作業參考解答\n",
        "\n",
        "### 問題一"
      ],
      "metadata": {
        "id": "FbiK0Z0qGm4F"
      }
    },
    {
      "cell_type": "code",
      "execution_count": null,
      "metadata": {
        "id": "bBNs_tZOEAMk"
      },
      "outputs": [],
      "source": [
        "!pip install gradio"
      ]
    },
    {
      "cell_type": "code",
      "source": [
        "import requests"
      ],
      "metadata": {
        "id": "OqX-ydC6ES3E"
      },
      "execution_count": null,
      "outputs": []
    },
    {
      "cell_type": "code",
      "source": [
        "# Hint\n",
        "url = \"https://www.moedict.tw/a/\"\n",
        "\n",
        "data = requests.get(url + \"教室\" + \".json\").json()\n",
        "data"
      ],
      "metadata": {
        "colab": {
          "base_uri": "https://localhost:8080/"
        },
        "id": "aODX7CVrEE5v",
        "outputId": "237dc947-8503-4855-ae16-d4a7df705184"
      },
      "execution_count": null,
      "outputs": [
        {
          "output_type": "execute_result",
          "data": {
            "text/plain": [
              "{'Deutsch': 'Klassenzimmer  (S)',\n",
              " 'English': 'classroom',\n",
              " 'francais': 'salle de classe',\n",
              " 'h': [{'=': '322500022',\n",
              "   'b': 'ㄐㄧㄠˋ\\u3000ㄕˋ',\n",
              "   'd': [{'e': ['`如~：「`實驗~`教室~」、「`音樂~`教室~」。'],\n",
              "     'f': '`學校~`裡~`進行~`教學~`活動~`的~`房間~。',\n",
              "     's': '`課堂~'}],\n",
              "   'p': 'jiào shì'}],\n",
              " 't': '`教~`室~',\n",
              " 'translation': {'Deutsch': ['Klassenzimmer  (S)'],\n",
              "  'English': ['classroom', 'CL:`間~|间[jian1]'],\n",
              "  'francais': ['salle de classe']}}"
            ]
          },
          "metadata": {},
          "execution_count": 3
        }
      ]
    },
    {
      "cell_type": "code",
      "source": [
        "def lookup(word):\n",
        "  url = \"https://www.moedict.tw/a/\"\n",
        "\n",
        "  data = requests.get(url + word + \".json\").json()\n",
        "  return data['English']"
      ],
      "metadata": {
        "id": "n75c-IwMEVMw"
      },
      "execution_count": null,
      "outputs": []
    },
    {
      "cell_type": "code",
      "source": [
        "lookup(\"學生\")"
      ],
      "metadata": {
        "colab": {
          "base_uri": "https://localhost:8080/",
          "height": 36
        },
        "id": "A8XOICrcFL6F",
        "outputId": "26e740ba-9489-446d-b6aa-939393d77f33"
      },
      "execution_count": null,
      "outputs": [
        {
          "output_type": "execute_result",
          "data": {
            "text/plain": [
              "'student'"
            ],
            "application/vnd.google.colaboratory.intrinsic+json": {
              "type": "string"
            }
          },
          "metadata": {},
          "execution_count": 7
        }
      ]
    },
    {
      "cell_type": "code",
      "source": [
        "import gradio"
      ],
      "metadata": {
        "id": "psCvSqO9FNjf"
      },
      "execution_count": null,
      "outputs": []
    },
    {
      "cell_type": "code",
      "source": [
        "gradio.Interface(lookup, \"text\", \"text\", title=\"漢英字典\").launch(share=True)"
      ],
      "metadata": {
        "colab": {
          "base_uri": "https://localhost:8080/",
          "height": 646
        },
        "id": "3Qb4N-q9FXC0",
        "outputId": "4e4b64d8-c003-49b5-fef3-00428ba4b06d"
      },
      "execution_count": null,
      "outputs": [
        {
          "output_type": "stream",
          "name": "stdout",
          "text": [
            "Colab notebook detected. To show errors in colab notebook, set `debug=True` in `launch()`\n",
            "Running on public URL: https://58387.gradio.app\n",
            "\n",
            "This share link expires in 72 hours. For free permanent hosting, check out Spaces (https://huggingface.co/spaces)\n"
          ]
        },
        {
          "output_type": "display_data",
          "data": {
            "text/plain": [
              "<IPython.core.display.HTML object>"
            ],
            "text/html": [
              "<div><iframe src=\"https://58387.gradio.app\" width=\"900\" height=\"500\" allow=\"autoplay; camera; microphone;\" frameborder=\"0\" allowfullscreen></iframe></div>"
            ]
          },
          "metadata": {}
        },
        {
          "output_type": "execute_result",
          "data": {
            "text/plain": [
              "(<gradio.routes.App at 0x7f8a008e2810>,\n",
              " 'http://127.0.0.1:7860/',\n",
              " 'https://58387.gradio.app')"
            ]
          },
          "metadata": {},
          "execution_count": 9
        }
      ]
    },
    {
      "cell_type": "markdown",
      "source": [
        "### 問題二"
      ],
      "metadata": {
        "id": "_Fmfn3RQGzox"
      }
    },
    {
      "cell_type": "code",
      "source": [
        "# a004 Hint:\n",
        "x = []\n",
        "data = input()\n",
        "while data:\n",
        "  x.append(int(data))\n",
        "  data = input()\n",
        "\n",
        "for i in x:\n",
        "  if (i % 4 == 0) and (i % 100 != 0):\n",
        "    print(\"閏年\")\n",
        "  elif (i % 400 == 0):\n",
        "    print(\"閏年\")\n",
        "  else:\n",
        "    print(\"平年\")"
      ],
      "metadata": {
        "colab": {
          "base_uri": "https://localhost:8080/"
        },
        "id": "8e-OXLsAG07V",
        "outputId": "237a183d-22d9-49f8-b88e-15a246b8189d"
      },
      "execution_count": null,
      "outputs": [
        {
          "output_type": "stream",
          "name": "stdout",
          "text": [
            "1977\n",
            "1980\n",
            "\n",
            "平年\n",
            "閏年\n"
          ]
        }
      ]
    },
    {
      "cell_type": "code",
      "source": [
        "while True:\n",
        "    try:\n",
        "        a=int(input())\n",
        "        if a%4==0 and a%100!=0:\n",
        "            print(\"閏年\")\n",
        "        elif a%400==0:\n",
        "            print(\"閏年\")\n",
        "        else:    \n",
        "            print(\"平年\")\n",
        "    except:\n",
        "        break"
      ],
      "metadata": {
        "colab": {
          "base_uri": "https://localhost:8080/"
        },
        "id": "s5b3JcaYIqkH",
        "outputId": "2e4ac43c-4ae7-4368-b3c5-d253f66f45b8"
      },
      "execution_count": null,
      "outputs": [
        {
          "name": "stdout",
          "output_type": "stream",
          "text": [
            "1977\n",
            "平年\n",
            "1980\n",
            "閏年\n",
            "\n"
          ]
        }
      ]
    },
    {
      "cell_type": "code",
      "source": [
        "import sys\n",
        "\n",
        "for i in sys.stdin:\n",
        "    a=int(i)\n",
        "    if a%4==0 and a%100!=0:\n",
        "        print(\"閏年\")\n",
        "    elif a%400==0:\n",
        "        print(\"閏年\")\n",
        "    else:    \n",
        "        print(\"平年\")"
      ],
      "metadata": {
        "id": "98x4Z6FSL9mO"
      },
      "execution_count": null,
      "outputs": []
    },
    {
      "cell_type": "markdown",
      "source": [
        "# Python基礎概念\n",
        "\n",
        "* Data Types: int, float, bool, str\n",
        "* container types: list, tuple, dict, set\n",
        "* Syntax: loops, functions, if statements, exception handling"
      ],
      "metadata": {
        "id": "pY1iavSMM8xH"
      }
    },
    {
      "cell_type": "markdown",
      "source": [
        "## str: 字串"
      ],
      "metadata": {
        "id": "tvkHo2L5NkTV"
      }
    },
    {
      "cell_type": "markdown",
      "source": [
        "### string format"
      ],
      "metadata": {
        "id": "a70isTr9NwcR"
      }
    },
    {
      "cell_type": "code",
      "source": [
        "x = 1\n",
        "y = 3.14159\n",
        "z = True\n",
        "w = \"dog\""
      ],
      "metadata": {
        "id": "8xuCXBkaL-ki"
      },
      "execution_count": null,
      "outputs": []
    },
    {
      "cell_type": "markdown",
      "source": [
        "### Python 2+"
      ],
      "metadata": {
        "id": "jhxMsQRcRKra"
      }
    },
    {
      "cell_type": "code",
      "source": [
        "print(\"int: %d, float: %f, bool: %s, str: %s\" % (x, y, z, w))"
      ],
      "metadata": {
        "colab": {
          "base_uri": "https://localhost:8080/"
        },
        "id": "1S0hVnUfRKA6",
        "outputId": "0a2a4808-6caa-49d5-8106-f9278ee22748"
      },
      "execution_count": null,
      "outputs": [
        {
          "output_type": "stream",
          "name": "stdout",
          "text": [
            "int: 1, float: 3.141590, bool: True, str: dog\n"
          ]
        }
      ]
    },
    {
      "cell_type": "markdown",
      "source": [
        "#### Python 3+"
      ],
      "metadata": {
        "id": "AtWeiD-WRj3V"
      }
    },
    {
      "cell_type": "code",
      "source": [
        "print(\"int: {}, float: {}, bool: {}, str: {}\".format(x, y, z, w))"
      ],
      "metadata": {
        "colab": {
          "base_uri": "https://localhost:8080/"
        },
        "id": "qgDB9eUKRjW_",
        "outputId": "0eaed17d-66c2-4d8f-a97f-1e6b77e36d36"
      },
      "execution_count": null,
      "outputs": [
        {
          "output_type": "stream",
          "name": "stdout",
          "text": [
            "int: 1, float: 3.14159, bool: True, str: dog\n"
          ]
        }
      ]
    },
    {
      "cell_type": "code",
      "source": [
        "print(\"甲: {}, 乙: {}, 丙: {}, 丁: {}\".format(x, y, z, w))"
      ],
      "metadata": {
        "colab": {
          "base_uri": "https://localhost:8080/"
        },
        "id": "2qtaWDS6R-4E",
        "outputId": "19c724c5-4ca9-4bc8-d88e-ee18aa9b5464"
      },
      "execution_count": null,
      "outputs": [
        {
          "output_type": "stream",
          "name": "stdout",
          "text": [
            "甲: 1, 乙: 3.14159, 丙: True, 丁: dog\n"
          ]
        }
      ]
    },
    {
      "cell_type": "code",
      "source": [
        "print(\"甲: {0}, 乙: {1}, 丙: {2}, 丁: {3}\".format(x, y, z, w))"
      ],
      "metadata": {
        "colab": {
          "base_uri": "https://localhost:8080/"
        },
        "id": "mtba2rwMSGkU",
        "outputId": "adaeb4cd-432c-4887-c21b-f9abf7e0586d"
      },
      "execution_count": null,
      "outputs": [
        {
          "output_type": "stream",
          "name": "stdout",
          "text": [
            "甲: 1, 乙: 3.14159, 丙: True, 丁: dog\n"
          ]
        }
      ]
    },
    {
      "cell_type": "code",
      "source": [
        "print(\"甲: {1}, 乙: {2}, 丙: {3}, 丁: {0}\".format(x, y, z, w))"
      ],
      "metadata": {
        "colab": {
          "base_uri": "https://localhost:8080/"
        },
        "id": "ze5vpB8-Sbfy",
        "outputId": "59975bc9-0670-4d15-dee7-8a7fd6fdd2e1"
      },
      "execution_count": null,
      "outputs": [
        {
          "output_type": "stream",
          "name": "stdout",
          "text": [
            "甲: 3.14159, 乙: True, 丙: dog, 丁: 1\n"
          ]
        }
      ]
    },
    {
      "cell_type": "markdown",
      "source": [
        "#### f-string (python 3.5+)"
      ],
      "metadata": {
        "id": "0Pn8fBGBODfX"
      }
    },
    {
      "cell_type": "code",
      "source": [
        "print(f\"int: {x}, float: {y}, bool: {z}, str: {w}\")"
      ],
      "metadata": {
        "colab": {
          "base_uri": "https://localhost:8080/"
        },
        "id": "JfgEGsG-N7nj",
        "outputId": "3754cc4f-ddec-400a-d7d6-6611f0cd0e15"
      },
      "execution_count": null,
      "outputs": [
        {
          "output_type": "stream",
          "name": "stdout",
          "text": [
            "int: 1, float: 3.14159, bool: True, str: dog\n"
          ]
        }
      ]
    },
    {
      "cell_type": "code",
      "source": [
        "print(f\"x: {x}\")"
      ],
      "metadata": {
        "colab": {
          "base_uri": "https://localhost:8080/"
        },
        "id": "lbZqYwdrOScr",
        "outputId": "ba237dbe-7258-4071-d0df-b90140d6996b"
      },
      "execution_count": null,
      "outputs": [
        {
          "output_type": "stream",
          "name": "stdout",
          "text": [
            "x: 1\n"
          ]
        }
      ]
    },
    {
      "cell_type": "code",
      "source": [
        "print(f\"x: {x + 5:5}\")"
      ],
      "metadata": {
        "colab": {
          "base_uri": "https://localhost:8080/"
        },
        "id": "byKFsd8aS5Ye",
        "outputId": "6253e537-da42-4727-f3fd-d6f1e7d24b7e"
      },
      "execution_count": null,
      "outputs": [
        {
          "output_type": "stream",
          "name": "stdout",
          "text": [
            "x:     6\n"
          ]
        }
      ]
    },
    {
      "cell_type": "code",
      "source": [
        "print(f\"x: {x + 5:05}\")"
      ],
      "metadata": {
        "colab": {
          "base_uri": "https://localhost:8080/"
        },
        "id": "-tgfmKWHS-XT",
        "outputId": "02c6d03e-a949-40c6-c00f-eb3b033ea830"
      },
      "execution_count": null,
      "outputs": [
        {
          "output_type": "stream",
          "name": "stdout",
          "text": [
            "x: 00006\n"
          ]
        }
      ]
    },
    {
      "cell_type": "code",
      "source": [
        "print(f\"y: {y:.2f}\")"
      ],
      "metadata": {
        "colab": {
          "base_uri": "https://localhost:8080/"
        },
        "id": "jkPyi7elTNR1",
        "outputId": "f27568f0-8893-4c95-96ff-b0a468b4c003"
      },
      "execution_count": null,
      "outputs": [
        {
          "output_type": "stream",
          "name": "stdout",
          "text": [
            "y: 3.14\n"
          ]
        }
      ]
    },
    {
      "cell_type": "code",
      "source": [
        "print(f\"x: {x + 5:b}\")"
      ],
      "metadata": {
        "colab": {
          "base_uri": "https://localhost:8080/"
        },
        "id": "LLCEW1JuTV31",
        "outputId": "ef506880-3af3-417e-b1fd-930076510403"
      },
      "execution_count": null,
      "outputs": [
        {
          "output_type": "stream",
          "name": "stdout",
          "text": [
            "x: 110\n"
          ]
        }
      ]
    },
    {
      "cell_type": "code",
      "source": [
        "print(f\"x: {x + 5:x}\")"
      ],
      "metadata": {
        "colab": {
          "base_uri": "https://localhost:8080/"
        },
        "id": "d0VH5I40Tf1-",
        "outputId": "f57376da-4dc6-42c9-9a68-6b878dde2300"
      },
      "execution_count": null,
      "outputs": [
        {
          "output_type": "stream",
          "name": "stdout",
          "text": [
            "x: 6\n"
          ]
        }
      ]
    },
    {
      "cell_type": "markdown",
      "source": [
        "### 練習\n",
        "\n",
        "請印出0-15的二進位及十六進位轉換"
      ],
      "metadata": {
        "id": "jz8TKZL_ToVA"
      }
    },
    {
      "cell_type": "code",
      "source": [
        "for i in range(16):\n",
        "  print(f\"{i:2} ==> {i:04b} ==> {i:x}\")"
      ],
      "metadata": {
        "colab": {
          "base_uri": "https://localhost:8080/"
        },
        "id": "VhDU11lITleK",
        "outputId": "8ba84650-46e5-4892-a60d-a372672e01dc"
      },
      "execution_count": null,
      "outputs": [
        {
          "output_type": "stream",
          "name": "stdout",
          "text": [
            " 0 ==> 0000 ==> 0\n",
            " 1 ==> 0001 ==> 1\n",
            " 2 ==> 0010 ==> 2\n",
            " 3 ==> 0011 ==> 3\n",
            " 4 ==> 0100 ==> 4\n",
            " 5 ==> 0101 ==> 5\n",
            " 6 ==> 0110 ==> 6\n",
            " 7 ==> 0111 ==> 7\n",
            " 8 ==> 1000 ==> 8\n",
            " 9 ==> 1001 ==> 9\n",
            "10 ==> 1010 ==> a\n",
            "11 ==> 1011 ==> b\n",
            "12 ==> 1100 ==> c\n",
            "13 ==> 1101 ==> d\n",
            "14 ==> 1110 ==> e\n",
            "15 ==> 1111 ==> f\n"
          ]
        }
      ]
    },
    {
      "cell_type": "code",
      "source": [
        "u = 6"
      ],
      "metadata": {
        "id": "JCVu_UKZT9FB"
      },
      "execution_count": null,
      "outputs": []
    },
    {
      "cell_type": "code",
      "source": [
        "print(f\"{u:b}\")"
      ],
      "metadata": {
        "colab": {
          "base_uri": "https://localhost:8080/"
        },
        "id": "KW8QuCS8U0BM",
        "outputId": "86861456-780f-4978-bb08-d1b1744a1ae8"
      },
      "execution_count": null,
      "outputs": [
        {
          "output_type": "stream",
          "name": "stdout",
          "text": [
            "110\n"
          ]
        }
      ]
    },
    {
      "cell_type": "code",
      "source": [
        "print(f\"{u+10:x}\")"
      ],
      "metadata": {
        "colab": {
          "base_uri": "https://localhost:8080/"
        },
        "id": "HPY1dimXU3E5",
        "outputId": "950f9f37-83e5-40a3-966d-0469405861c7"
      },
      "execution_count": null,
      "outputs": [
        {
          "output_type": "stream",
          "name": "stdout",
          "text": [
            "10\n"
          ]
        }
      ]
    },
    {
      "cell_type": "code",
      "source": [
        "print(f\"{y:.2f}\")"
      ],
      "metadata": {
        "colab": {
          "base_uri": "https://localhost:8080/"
        },
        "id": "xBWmxVUPXcCd",
        "outputId": "7e4c9fe5-f5a9-48ff-ff0c-d8590b82fcb5"
      },
      "execution_count": null,
      "outputs": [
        {
          "output_type": "stream",
          "name": "stdout",
          "text": [
            "3.14\n"
          ]
        }
      ]
    },
    {
      "cell_type": "code",
      "source": [
        "print(f\"{y:5.2f}\")"
      ],
      "metadata": {
        "colab": {
          "base_uri": "https://localhost:8080/"
        },
        "id": "D_Y8PTC5Xi9D",
        "outputId": "7b1476df-ad15-4020-b5ea-b2ed6be78e69"
      },
      "execution_count": null,
      "outputs": [
        {
          "output_type": "stream",
          "name": "stdout",
          "text": [
            " 3.14\n"
          ]
        }
      ]
    },
    {
      "cell_type": "code",
      "source": [
        "print(f\"{y:08.2f}\")"
      ],
      "metadata": {
        "colab": {
          "base_uri": "https://localhost:8080/"
        },
        "id": "BjFS1DCWXvda",
        "outputId": "6e3dae9b-e803-47d3-ebee-18adf684d1b0"
      },
      "execution_count": null,
      "outputs": [
        {
          "output_type": "stream",
          "name": "stdout",
          "text": [
            "00003.14\n"
          ]
        }
      ]
    },
    {
      "cell_type": "markdown",
      "source": [
        "## str => list"
      ],
      "metadata": {
        "id": "KARgQpEwXATb"
      }
    },
    {
      "cell_type": "code",
      "source": [
        "s = \"abcde\""
      ],
      "metadata": {
        "id": "1YrihBxXU8Gm"
      },
      "execution_count": null,
      "outputs": []
    },
    {
      "cell_type": "code",
      "source": [
        "sl = list(s)"
      ],
      "metadata": {
        "id": "1m8FOcgEYDVl"
      },
      "execution_count": null,
      "outputs": []
    },
    {
      "cell_type": "code",
      "source": [
        "sl"
      ],
      "metadata": {
        "colab": {
          "base_uri": "https://localhost:8080/"
        },
        "id": "b0s3kKswYGFR",
        "outputId": "6daab1fe-fb90-4e34-c77e-c8eaa3c3e00c"
      },
      "execution_count": null,
      "outputs": [
        {
          "output_type": "execute_result",
          "data": {
            "text/plain": [
              "['a', 'b', 'c', 'd', 'e']"
            ]
          },
          "metadata": {},
          "execution_count": 54
        }
      ]
    },
    {
      "cell_type": "code",
      "source": [
        "v = \"\"\n",
        "for i in sl:\n",
        "  v = v+i\n",
        "  # v += i\n",
        "v"
      ],
      "metadata": {
        "colab": {
          "base_uri": "https://localhost:8080/",
          "height": 36
        },
        "id": "gSnXkulEYHcY",
        "outputId": "6d2178bb-776c-43ad-d135-f8a86556d0c3"
      },
      "execution_count": null,
      "outputs": [
        {
          "output_type": "execute_result",
          "data": {
            "text/plain": [
              "'abcde'"
            ],
            "application/vnd.google.colaboratory.intrinsic+json": {
              "type": "string"
            }
          },
          "metadata": {},
          "execution_count": 55
        }
      ]
    },
    {
      "cell_type": "markdown",
      "source": [
        "### list => str"
      ],
      "metadata": {
        "id": "wFZW2N_VY4JH"
      }
    },
    {
      "cell_type": "code",
      "source": [
        "sl"
      ],
      "metadata": {
        "colab": {
          "base_uri": "https://localhost:8080/"
        },
        "id": "Tez7IzpjYkLt",
        "outputId": "d60f6645-a1da-4459-eda6-ce666443bde4"
      },
      "execution_count": null,
      "outputs": [
        {
          "output_type": "execute_result",
          "data": {
            "text/plain": [
              "['a', 'b', 'c', 'd', 'e']"
            ]
          },
          "metadata": {},
          "execution_count": 56
        }
      ]
    },
    {
      "cell_type": "code",
      "source": [
        "\"\".join(sl)"
      ],
      "metadata": {
        "colab": {
          "base_uri": "https://localhost:8080/",
          "height": 36
        },
        "id": "Cq7_e6YrY9hn",
        "outputId": "eb6f3bfb-034f-4156-bfd6-df3949d692d7"
      },
      "execution_count": null,
      "outputs": [
        {
          "output_type": "execute_result",
          "data": {
            "text/plain": [
              "'abcde'"
            ],
            "application/vnd.google.colaboratory.intrinsic+json": {
              "type": "string"
            }
          },
          "metadata": {},
          "execution_count": 57
        }
      ]
    },
    {
      "cell_type": "code",
      "source": [
        "\"0\".join(sl)"
      ],
      "metadata": {
        "colab": {
          "base_uri": "https://localhost:8080/",
          "height": 36
        },
        "id": "UqyXHsnxZBih",
        "outputId": "9acedf73-14ef-47bf-fd49-87834379c808"
      },
      "execution_count": null,
      "outputs": [
        {
          "output_type": "execute_result",
          "data": {
            "text/plain": [
              "'a0b0c0d0e'"
            ],
            "application/vnd.google.colaboratory.intrinsic+json": {
              "type": "string"
            }
          },
          "metadata": {},
          "execution_count": 58
        }
      ]
    },
    {
      "cell_type": "markdown",
      "source": [
        "### str => list (使用 split)"
      ],
      "metadata": {
        "id": "6UW8dfj-ZqOz"
      }
    },
    {
      "cell_type": "code",
      "source": [
        "s1 = \"He is my friend.\""
      ],
      "metadata": {
        "id": "mjueOV0hZaFU"
      },
      "execution_count": null,
      "outputs": []
    },
    {
      "cell_type": "code",
      "source": [
        "s2 = s1.split()"
      ],
      "metadata": {
        "id": "1-MptLLOZylA"
      },
      "execution_count": null,
      "outputs": []
    },
    {
      "cell_type": "code",
      "source": [
        "s2"
      ],
      "metadata": {
        "colab": {
          "base_uri": "https://localhost:8080/"
        },
        "id": "373sFZ5jZ0mS",
        "outputId": "bd06be84-4010-4840-8e0b-7c68d2e3e019"
      },
      "execution_count": null,
      "outputs": [
        {
          "output_type": "execute_result",
          "data": {
            "text/plain": [
              "['He', 'is', 'my', 'friend.']"
            ]
          },
          "metadata": {},
          "execution_count": 61
        }
      ]
    },
    {
      "cell_type": "markdown",
      "source": [
        "list => str"
      ],
      "metadata": {
        "id": "452QGDLsZ7Ax"
      }
    },
    {
      "cell_type": "code",
      "source": [
        "\" \".join(s2)"
      ],
      "metadata": {
        "colab": {
          "base_uri": "https://localhost:8080/",
          "height": 36
        },
        "id": "R6G5tDg7Z1iR",
        "outputId": "867a27cb-871d-4833-d1c1-a255c6a3d6c5"
      },
      "execution_count": null,
      "outputs": [
        {
          "output_type": "execute_result",
          "data": {
            "text/plain": [
              "'He is my friend.'"
            ],
            "application/vnd.google.colaboratory.intrinsic+json": {
              "type": "string"
            }
          },
          "metadata": {},
          "execution_count": 62
        }
      ]
    },
    {
      "cell_type": "markdown",
      "source": [
        "# BeautifulSoup簡介"
      ],
      "metadata": {
        "id": "B7cpgXJjbIzR"
      }
    },
    {
      "cell_type": "code",
      "source": [
        "import requests\n",
        "from bs4 import BeautifulSoup"
      ],
      "metadata": {
        "id": "cRam3MyXaR2o"
      },
      "execution_count": null,
      "outputs": []
    },
    {
      "cell_type": "markdown",
      "source": [
        "#### 用 requests 抓取網頁原始碼"
      ],
      "metadata": {
        "id": "ScvDmmRxgN1O"
      }
    },
    {
      "cell_type": "code",
      "source": [
        "url = \"https://victorgau.github.io/khpy_web_intro/example01.html\""
      ],
      "metadata": {
        "id": "Ln2l7Qi_e8tB"
      },
      "execution_count": null,
      "outputs": []
    },
    {
      "cell_type": "code",
      "source": [
        "r = requests.get(url)"
      ],
      "metadata": {
        "id": "X9k7MU1SfDSS"
      },
      "execution_count": null,
      "outputs": []
    },
    {
      "cell_type": "code",
      "source": [
        "print(r.text)"
      ],
      "metadata": {
        "colab": {
          "base_uri": "https://localhost:8080/"
        },
        "id": "yCHp0hZafO5F",
        "outputId": "eaac77f5-5dbb-4dc2-f1d2-75a82b545d51"
      },
      "execution_count": null,
      "outputs": [
        {
          "output_type": "stream",
          "name": "stdout",
          "text": [
            "<!DOCTYPE html>\n",
            "<html>\n",
            "<head>\n",
            "    <title>這是範例一</title>\n",
            "</head>\n",
            "<body>\n",
            "\n",
            "<h1>哈囉！HTML！</h1>\n",
            "\n",
            "<div class=\"class1\">\n",
            "    <p>這是第一個p標籤內容！</p>\n",
            "    <p>這是第二個p標籤內容！</p>\n",
            "</div>\n",
            "\n",
            "<div class=\"class2\">\n",
            "    <p>這是第三個p標籤內容！</p>\n",
            "    <p>這是第四個p標籤內容！</p>\n",
            "</div>\n",
            "</body>\n",
            "</html>\n"
          ]
        }
      ]
    },
    {
      "cell_type": "code",
      "source": [
        "type(r.text)"
      ],
      "metadata": {
        "colab": {
          "base_uri": "https://localhost:8080/"
        },
        "id": "SmpgdayffS2G",
        "outputId": "60164a37-75d6-47c7-afeb-99d71386f303"
      },
      "execution_count": null,
      "outputs": [
        {
          "output_type": "execute_result",
          "data": {
            "text/plain": [
              "str"
            ]
          },
          "metadata": {},
          "execution_count": 67
        }
      ]
    },
    {
      "cell_type": "markdown",
      "source": [
        "#### 使用 BeautifulSoup 剖析網頁原始碼"
      ],
      "metadata": {
        "id": "zEz90YmlgUnC"
      }
    },
    {
      "cell_type": "code",
      "source": [
        "soup = BeautifulSoup(r.text)"
      ],
      "metadata": {
        "id": "d37Vax6yfZRg"
      },
      "execution_count": null,
      "outputs": []
    },
    {
      "cell_type": "code",
      "source": [
        "soup.title"
      ],
      "metadata": {
        "colab": {
          "base_uri": "https://localhost:8080/"
        },
        "id": "BYurdfhNfsLG",
        "outputId": "5bd97878-7d45-4982-d0fb-cf023c73d098"
      },
      "execution_count": null,
      "outputs": [
        {
          "output_type": "execute_result",
          "data": {
            "text/plain": [
              "<title>這是範例一</title>"
            ]
          },
          "metadata": {},
          "execution_count": 69
        }
      ]
    },
    {
      "cell_type": "code",
      "source": [
        "soup.h1"
      ],
      "metadata": {
        "colab": {
          "base_uri": "https://localhost:8080/"
        },
        "id": "FreZxSRcftq3",
        "outputId": "bef36311-78ba-4640-ba63-38031f2a9c1d"
      },
      "execution_count": null,
      "outputs": [
        {
          "output_type": "execute_result",
          "data": {
            "text/plain": [
              "<h1>哈囉！HTML！</h1>"
            ]
          },
          "metadata": {},
          "execution_count": 70
        }
      ]
    },
    {
      "cell_type": "code",
      "source": [
        "soup.p"
      ],
      "metadata": {
        "colab": {
          "base_uri": "https://localhost:8080/"
        },
        "id": "sfHLfRaof0WK",
        "outputId": "24c25c9f-18b3-40bb-9956-dba47783f235"
      },
      "execution_count": null,
      "outputs": [
        {
          "output_type": "execute_result",
          "data": {
            "text/plain": [
              "<p>這是第一個p標籤內容！</p>"
            ]
          },
          "metadata": {},
          "execution_count": 71
        }
      ]
    },
    {
      "cell_type": "code",
      "source": [
        "soup.select(\"p\")"
      ],
      "metadata": {
        "colab": {
          "base_uri": "https://localhost:8080/"
        },
        "id": "IiFaEV-6f3Xf",
        "outputId": "b0a861da-8f67-4f82-81fb-668cece80df8"
      },
      "execution_count": null,
      "outputs": [
        {
          "output_type": "execute_result",
          "data": {
            "text/plain": [
              "[<p>這是第一個p標籤內容！</p>,\n",
              " <p>這是第二個p標籤內容！</p>,\n",
              " <p>這是第三個p標籤內容！</p>,\n",
              " <p>這是第四個p標籤內容！</p>]"
            ]
          },
          "metadata": {},
          "execution_count": 72
        }
      ]
    },
    {
      "cell_type": "code",
      "source": [
        "soup.select(\".class1 p\")[0]"
      ],
      "metadata": {
        "colab": {
          "base_uri": "https://localhost:8080/"
        },
        "id": "_qqBk6PNgBnD",
        "outputId": "87de2043-696a-408c-d6e6-33646207c1c5"
      },
      "execution_count": null,
      "outputs": [
        {
          "output_type": "execute_result",
          "data": {
            "text/plain": [
              "<p>這是第一個p標籤內容！</p>"
            ]
          },
          "metadata": {},
          "execution_count": 77
        }
      ]
    },
    {
      "cell_type": "code",
      "source": [
        "soup.select(\".class2 p\")[1]"
      ],
      "metadata": {
        "colab": {
          "base_uri": "https://localhost:8080/"
        },
        "id": "9dVxmvwkjaVG",
        "outputId": "8175428f-b602-4506-c2e6-3242dcd86fb9"
      },
      "execution_count": null,
      "outputs": [
        {
          "output_type": "execute_result",
          "data": {
            "text/plain": [
              "<p>這是第四個p標籤內容！</p>"
            ]
          },
          "metadata": {},
          "execution_count": 78
        }
      ]
    },
    {
      "cell_type": "markdown",
      "source": [
        "### HOMEWORK: 抓取相簿\n",
        "\n",
        "http://jimmyts.pixnet.net/album/set/2374457-pokemon-go"
      ],
      "metadata": {
        "id": "JrqAEe7tkwj0"
      }
    },
    {
      "cell_type": "code",
      "source": [
        "url = \"http://jimmyts.pixnet.net/album/set/2374457-pokemon-go\""
      ],
      "metadata": {
        "id": "wfdXFkG_kU-6"
      },
      "execution_count": null,
      "outputs": []
    },
    {
      "cell_type": "code",
      "source": [
        "r = requests.get(url)"
      ],
      "metadata": {
        "id": "XByokrjjlFV6"
      },
      "execution_count": null,
      "outputs": []
    },
    {
      "cell_type": "code",
      "source": [
        "soup = BeautifulSoup(r.text)"
      ],
      "metadata": {
        "id": "rtzmkeXelJXb"
      },
      "execution_count": null,
      "outputs": []
    },
    {
      "cell_type": "code",
      "source": [
        "images = soup.select(\".photo-grid-list img\")"
      ],
      "metadata": {
        "id": "Eg5R5rvDlXHG"
      },
      "execution_count": null,
      "outputs": []
    },
    {
      "cell_type": "code",
      "source": [
        "type(images)"
      ],
      "metadata": {
        "colab": {
          "base_uri": "https://localhost:8080/"
        },
        "id": "2PwrFBlHmIU8",
        "outputId": "e4eb8097-e23d-44ef-d448-2574611c86d0"
      },
      "execution_count": null,
      "outputs": [
        {
          "output_type": "execute_result",
          "data": {
            "text/plain": [
              "list"
            ]
          },
          "metadata": {},
          "execution_count": 83
        }
      ]
    },
    {
      "cell_type": "code",
      "source": [
        "images[1]"
      ],
      "metadata": {
        "colab": {
          "base_uri": "https://localhost:8080/"
        },
        "id": "RehUG7TQmKNW",
        "outputId": "24ba2bb9-579c-4dd0-d9f9-655d6306180f"
      },
      "execution_count": null,
      "outputs": [
        {
          "output_type": "execute_result",
          "data": {
            "text/plain": [
              "<img alt=\"IMG_8873.PNG\" class=\"thumb\" height=\"120\" src=\"https://pic.pimg.tw/jimmyts/1473216280-353769481_s.jpg\" width=\"120\"/>"
            ]
          },
          "metadata": {},
          "execution_count": 85
        }
      ]
    },
    {
      "cell_type": "code",
      "source": [
        "for image in images:\n",
        "  print(image.get(\"src\"))"
      ],
      "metadata": {
        "colab": {
          "base_uri": "https://localhost:8080/"
        },
        "id": "wNTmwnKCmMdy",
        "outputId": "02a22007-cf06-444d-9316-081648f64773"
      },
      "execution_count": null,
      "outputs": [
        {
          "output_type": "stream",
          "name": "stdout",
          "text": [
            "https://pic.pimg.tw/jimmyts/1468302230-632604139_s.png\n",
            "https://pic.pimg.tw/jimmyts/1473216280-353769481_s.jpg\n",
            "https://pic.pimg.tw/jimmyts/1473216280-3763391123_s.jpg\n",
            "https://pic.pimg.tw/jimmyts/1473332659-96598337_s.jpg\n",
            "https://pic.pimg.tw/jimmyts/1473332709-274480695_s.jpg\n",
            "https://pic.pimg.tw/jimmyts/1473332752-2824594462_s.jpg\n",
            "https://pic.pimg.tw/jimmyts/1473332812-2589764259_s.jpg\n",
            "https://pic.pimg.tw/jimmyts/1473333041-4128680970_s.jpg\n",
            "https://pic.pimg.tw/jimmyts/1473592981-1596477319_s.jpg\n",
            "https://pic.pimg.tw/jimmyts/1473593314-2078276936_s.jpg\n",
            "https://pic.pimg.tw/jimmyts/1473593356-1566458337_s.jpg\n",
            "https://pic.pimg.tw/jimmyts/1473593380-3632338577_s.jpg\n",
            "https://pic.pimg.tw/jimmyts/1473593407-2656978984_s.jpg\n",
            "https://pic.pimg.tw/jimmyts/1473593793-2716208951_s.jpg\n",
            "https://pic.pimg.tw/jimmyts/1473648507-2433764218_s.png\n",
            "https://pic.pimg.tw/jimmyts/1473648728-110570407_s.png\n",
            "https://pic.pimg.tw/jimmyts/1473648728-2398114218_s.png\n",
            "https://pic.pimg.tw/jimmyts/1473649832-2851034535_s.png\n",
            "https://pic.pimg.tw/jimmyts/1473649832-2516106490_s.png\n",
            "https://pic.pimg.tw/jimmyts/1473649832-3733406416_s.png\n",
            "https://pic.pimg.tw/jimmyts/1473649832-3462383147_s.png\n",
            "https://pic.pimg.tw/jimmyts/1473863746-4232209147_s.jpg\n",
            "https://pic.pimg.tw/jimmyts/1473863866-3088626343_s.jpg\n",
            "https://pic.pimg.tw/jimmyts/1473863921-1287626477_s.jpg\n",
            "https://pic.pimg.tw/jimmyts/1473863975-3957521357_s.jpg\n",
            "https://pic.pimg.tw/jimmyts/1473864377-3839365121_s.jpg\n",
            "https://pic.pimg.tw/jimmyts/1473864531-4008917655_s.jpg\n",
            "https://pic.pimg.tw/jimmyts/1473864556-2305859169_s.jpg\n",
            "https://pic.pimg.tw/jimmyts/1473864706-3230250039_s.jpg\n",
            "https://pic.pimg.tw/jimmyts/1473864793-2185057578_s.jpg\n"
          ]
        }
      ]
    },
    {
      "cell_type": "code",
      "source": [
        "img_url = \"https://pic.pimg.tw/jimmyts/1468302230-632604139_s.png\""
      ],
      "metadata": {
        "id": "H0hIueJYmbO1"
      },
      "execution_count": null,
      "outputs": []
    },
    {
      "cell_type": "code",
      "source": [
        "img_url.split(\"/\")[-1]"
      ],
      "metadata": {
        "colab": {
          "base_uri": "https://localhost:8080/",
          "height": 36
        },
        "id": "sj7WnvgPnudV",
        "outputId": "7634f6a9-1271-4543-fa6e-40d8f047f7c7"
      },
      "execution_count": null,
      "outputs": [
        {
          "output_type": "execute_result",
          "data": {
            "text/plain": [
              "'1468302230-632604139_s.png'"
            ],
            "application/vnd.google.colaboratory.intrinsic+json": {
              "type": "string"
            }
          },
          "metadata": {},
          "execution_count": 88
        }
      ]
    },
    {
      "cell_type": "markdown",
      "source": [
        "(Optional) Homework:\n",
        "\n",
        "https://zerojudge.tw/ShowProblem?problemid=a005\n",
        "\n",
        "https://zerojudge.tw/ShowProblem?problemid=a006"
      ],
      "metadata": {
        "id": "LCvI0QiHpQ3f"
      }
    }
  ]
}