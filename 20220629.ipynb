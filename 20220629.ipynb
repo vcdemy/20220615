{
  "nbformat": 4,
  "nbformat_minor": 0,
  "metadata": {
    "colab": {
      "name": "20220629.ipynb",
      "provenance": [],
      "authorship_tag": "ABX9TyMVlB5KO/Xxg4SfXJVoWQXo",
      "include_colab_link": true
    },
    "kernelspec": {
      "name": "python3",
      "display_name": "Python 3"
    },
    "language_info": {
      "name": "python"
    }
  },
  "cells": [
    {
      "cell_type": "markdown",
      "metadata": {
        "id": "view-in-github",
        "colab_type": "text"
      },
      "source": [
        "<a href=\"https://colab.research.google.com/github/vcdemy/2022_Summer_Camp_01/blob/main/20220629.ipynb\" target=\"_parent\"><img src=\"https://colab.research.google.com/assets/colab-badge.svg\" alt=\"Open In Colab\"/></a>"
      ]
    },
    {
      "cell_type": "markdown",
      "source": [
        "Data Types:\n",
        "* int\n",
        "* float\n",
        "* str\n",
        "* bool \n",
        "\n",
        "Container Types:\n",
        "* list\n",
        "* tuple\n",
        "* dict\n",
        "* set\n",
        "\n",
        "語法：\n",
        "* if statements\n",
        "* loops\n",
        "  * for loops\n",
        "  * while loops\n",
        "* functions\n",
        "* exception handling"
      ],
      "metadata": {
        "id": "aSvn6GRWQ1gx"
      }
    },
    {
      "cell_type": "markdown",
      "source": [
        "## if statement"
      ],
      "metadata": {
        "id": "o4KBV6nWSBW9"
      }
    },
    {
      "cell_type": "code",
      "execution_count": 7,
      "metadata": {
        "id": "bFvwQnZYQlXM"
      },
      "outputs": [],
      "source": [
        "a = 3\n",
        "b = 3"
      ]
    },
    {
      "cell_type": "code",
      "source": [
        "if a > b:\n",
        "  print(\"a > b\")"
      ],
      "metadata": {
        "id": "63nxphe9SFNl"
      },
      "execution_count": 8,
      "outputs": []
    },
    {
      "cell_type": "code",
      "source": [
        "if a > b:\n",
        "  print(\"a > b\")\n",
        "else:\n",
        "  print(\"a <= b\")"
      ],
      "metadata": {
        "colab": {
          "base_uri": "https://localhost:8080/"
        },
        "id": "_cENhdI1SMkS",
        "outputId": "0a81bec7-c7d4-43d0-f9fc-be0f8681551d"
      },
      "execution_count": 9,
      "outputs": [
        {
          "output_type": "stream",
          "name": "stdout",
          "text": [
            "a <= b\n"
          ]
        }
      ]
    },
    {
      "cell_type": "code",
      "source": [
        "if a > b:\n",
        "  print(\"a > b\")\n",
        "elif a < b:\n",
        "  print(\"a < b\")\n",
        "else:\n",
        "  print(\"a = b\")"
      ],
      "metadata": {
        "colab": {
          "base_uri": "https://localhost:8080/"
        },
        "id": "Nl90CB9-Spaa",
        "outputId": "0e4ddd82-e0a4-4736-ff88-b7e16c82ee9d"
      },
      "execution_count": 10,
      "outputs": [
        {
          "output_type": "stream",
          "name": "stdout",
          "text": [
            "a = b\n"
          ]
        }
      ]
    },
    {
      "cell_type": "markdown",
      "source": [
        "# 用 bmi 判斷是否過輕或過重\n",
        "\n",
        "|bmi|健康狀況|\n",
        "|:-:|:-:|\n",
        "|bmi < 18.5|體重過輕|\n",
        "|18.5<bmi<24|健康體衛|\n",
        "|bmi > 24|體重過重|\n",
        "\n",
        "$$ bmi = \\frac{體重(公斤)}{身高(公尺)^2} $$"
      ],
      "metadata": {
        "id": "axS2GhSNUIJq"
      }
    },
    {
      "cell_type": "code",
      "source": [
        "bmi = 80/(1.83**2)"
      ],
      "metadata": {
        "id": "-fXEjuS6UyYD"
      },
      "execution_count": 11,
      "outputs": []
    },
    {
      "cell_type": "code",
      "source": [
        "bmi"
      ],
      "metadata": {
        "colab": {
          "base_uri": "https://localhost:8080/"
        },
        "id": "IQ1D2EvBU9_I",
        "outputId": "d2ea2a15-424a-4d07-9206-fd02861bb2d8"
      },
      "execution_count": 12,
      "outputs": [
        {
          "output_type": "execute_result",
          "data": {
            "text/plain": [
              "23.888440980620498"
            ]
          },
          "metadata": {},
          "execution_count": 12
        }
      ]
    },
    {
      "cell_type": "code",
      "source": [
        "if bmi < 18.5:\n",
        "  print(\"體重過輕\")\n",
        "elif bmi > 24:\n",
        "  print(\"體重過重\")\n",
        "else:\n",
        "  print(\"健康體衛\")"
      ],
      "metadata": {
        "colab": {
          "base_uri": "https://localhost:8080/"
        },
        "id": "l5wYCz1WU-7G",
        "outputId": "f0918aa9-1eb7-4ee2-e5d8-59585386bcd3"
      },
      "execution_count": 13,
      "outputs": [
        {
          "output_type": "stream",
          "name": "stdout",
          "text": [
            "健康體衛\n"
          ]
        }
      ]
    },
    {
      "cell_type": "code",
      "source": [
        "def health(height, weight):\n",
        "  height = float(height)\n",
        "  weight = float(weight)\n",
        "  bmi = weight/height**2\n",
        "  if bmi < 18.5:\n",
        "    result = \"體重過輕\"\n",
        "  elif bmi > 24:\n",
        "    result = \"體重過重\"\n",
        "  else:\n",
        "    result = \"健康體衛\"\n",
        "  return result"
      ],
      "metadata": {
        "id": "wFAGc6n1Zhys"
      },
      "execution_count": 22,
      "outputs": []
    },
    {
      "cell_type": "code",
      "source": [
        "health(1.83, 80)"
      ],
      "metadata": {
        "colab": {
          "base_uri": "https://localhost:8080/",
          "height": 36
        },
        "id": "Z9Ut1XHBaaba",
        "outputId": "0f08f29b-7b87-471c-e638-a28d1790bff7"
      },
      "execution_count": 18,
      "outputs": [
        {
          "output_type": "execute_result",
          "data": {
            "text/plain": [
              "'健康體衛'"
            ],
            "application/vnd.google.colaboratory.intrinsic+json": {
              "type": "string"
            }
          },
          "metadata": {},
          "execution_count": 18
        }
      ]
    },
    {
      "cell_type": "code",
      "source": [
        "!pip install gradio"
      ],
      "metadata": {
        "id": "AdkxNS-Zaj7t"
      },
      "execution_count": null,
      "outputs": []
    },
    {
      "cell_type": "code",
      "source": [
        "import gradio as gr\n",
        "\n",
        "demo = gr.Interface(\n",
        "    fn=health,\n",
        "    inputs=[\"text\", \"text\"],\n",
        "    outputs=\"text\",\n",
        ")\n",
        "demo.launch(share=True)"
      ],
      "metadata": {
        "colab": {
          "base_uri": "https://localhost:8080/",
          "height": 666
        },
        "id": "KTT7k5qQb84g",
        "outputId": "f6fe271d-9f9f-43d7-b6c2-e9f47b65b35c"
      },
      "execution_count": 23,
      "outputs": [
        {
          "output_type": "stream",
          "name": "stdout",
          "text": [
            "Colab notebook detected. To show errors in colab notebook, set `debug=True` in `launch()`\n",
            "Running on public URL: https://57104.gradio.app\n",
            "\n",
            "This share link expires in 72 hours. For free permanent hosting, check out Spaces (https://huggingface.co/spaces)\n"
          ]
        },
        {
          "output_type": "display_data",
          "data": {
            "text/plain": [
              "<IPython.core.display.HTML object>"
            ],
            "text/html": [
              "<div><iframe src=\"https://57104.gradio.app\" width=\"900\" height=\"500\" allow=\"autoplay; camera; microphone;\" frameborder=\"0\" allowfullscreen></iframe></div>"
            ]
          },
          "metadata": {}
        },
        {
          "output_type": "execute_result",
          "data": {
            "text/plain": [
              "(<gradio.routes.App at 0x7f8be5c7a650>,\n",
              " 'http://127.0.0.1:7861/',\n",
              " 'https://57104.gradio.app')"
            ]
          },
          "metadata": {},
          "execution_count": 23
        }
      ]
    },
    {
      "cell_type": "code",
      "source": [
        "data = input(\"請輸入一個數字： \")"
      ],
      "metadata": {
        "colab": {
          "base_uri": "https://localhost:8080/"
        },
        "id": "9Km_GbErdw9j",
        "outputId": "2d148665-07fa-4623-b930-d9665e8f0199"
      },
      "execution_count": 24,
      "outputs": [
        {
          "name": "stdout",
          "output_type": "stream",
          "text": [
            "請輸入一個數字： 18\n"
          ]
        }
      ]
    },
    {
      "cell_type": "code",
      "source": [
        "data"
      ],
      "metadata": {
        "colab": {
          "base_uri": "https://localhost:8080/",
          "height": 36
        },
        "id": "zFuzUWOkd6he",
        "outputId": "f20a5811-5769-472a-af34-3a060b1e5a13"
      },
      "execution_count": 25,
      "outputs": [
        {
          "output_type": "execute_result",
          "data": {
            "text/plain": [
              "'18'"
            ],
            "application/vnd.google.colaboratory.intrinsic+json": {
              "type": "string"
            }
          },
          "metadata": {},
          "execution_count": 25
        }
      ]
    },
    {
      "cell_type": "code",
      "source": [
        "type(data)"
      ],
      "metadata": {
        "colab": {
          "base_uri": "https://localhost:8080/"
        },
        "id": "FEmio66od7NS",
        "outputId": "93b52919-d544-4d9a-824f-13b38520bf9d"
      },
      "execution_count": 26,
      "outputs": [
        {
          "output_type": "execute_result",
          "data": {
            "text/plain": [
              "str"
            ]
          },
          "metadata": {},
          "execution_count": 26
        }
      ]
    },
    {
      "cell_type": "markdown",
      "source": [
        "# while loops\n",
        "\n",
        "```python\n",
        "while 判斷式:\n",
        "  程式區塊\n",
        "```"
      ],
      "metadata": {
        "id": "ZgmB4RSweqoy"
      }
    },
    {
      "cell_type": "markdown",
      "source": [
        "# Homework\n",
        "\n",
        "## 猜數字遊戲\n",
        "\n",
        "寫一個猜數字的程式，隨機產生一個數字，猜的過程要提示猜得太大或太小，猜中之後離開迴圈，然後看看猜幾次之後可以猜到答案。"
      ],
      "metadata": {
        "id": "z2dwncaHgf4f"
      }
    },
    {
      "cell_type": "code",
      "source": [
        "from random import randint"
      ],
      "metadata": {
        "id": "ZecV7fh3fh8k"
      },
      "execution_count": 28,
      "outputs": []
    },
    {
      "cell_type": "code",
      "source": [
        "randint(0, 99)"
      ],
      "metadata": {
        "colab": {
          "base_uri": "https://localhost:8080/"
        },
        "id": "QLSwWn7HgKnD",
        "outputId": "d23be380-b32c-4f99-c473-92a2238e778a"
      },
      "execution_count": 32,
      "outputs": [
        {
          "output_type": "execute_result",
          "data": {
            "text/plain": [
              "45"
            ]
          },
          "metadata": {},
          "execution_count": 32
        }
      ]
    },
    {
      "cell_type": "code",
      "source": [
        "# hint\n",
        "answer = randint(0, 99)\n",
        "while True:\n",
        "  data = input(\"請輸入一個數字 (0~99): \")\n",
        "  if data==\"0\":\n",
        "    break"
      ],
      "metadata": {
        "colab": {
          "base_uri": "https://localhost:8080/"
        },
        "id": "-MLtPapieFMk",
        "outputId": "da135ac6-e9d1-4b6a-bf64-3ce57059c141"
      },
      "execution_count": 27,
      "outputs": [
        {
          "name": "stdout",
          "output_type": "stream",
          "text": [
            "請輸入一個數字: 10\n",
            "請輸入一個數字: 20\n",
            "請輸入一個數字: 30\n",
            "請輸入一個數字: 40\n",
            "請輸入一個數字: 11\n",
            "請輸入一個數字: 0\n"
          ]
        }
      ]
    }
  ]
}