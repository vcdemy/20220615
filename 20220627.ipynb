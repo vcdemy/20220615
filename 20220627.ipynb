{
  "nbformat": 4,
  "nbformat_minor": 0,
  "metadata": {
    "colab": {
      "name": "20220627.ipynb",
      "provenance": [],
      "authorship_tag": "ABX9TyO4xeaOhwhAXISh6SKyVRMX",
      "include_colab_link": true
    },
    "kernelspec": {
      "name": "python3",
      "display_name": "Python 3"
    },
    "language_info": {
      "name": "python"
    }
  },
  "cells": [
    {
      "cell_type": "markdown",
      "metadata": {
        "id": "view-in-github",
        "colab_type": "text"
      },
      "source": [
        "<a href=\"https://colab.research.google.com/github/vcdemy/2022_Summer_Camp_01/blob/main/20220627.ipynb\" target=\"_parent\"><img src=\"https://colab.research.google.com/assets/colab-badge.svg\" alt=\"Open In Colab\"/></a>"
      ]
    },
    {
      "cell_type": "markdown",
      "source": [
        "# 使用 Gradio + 萌典，寫一個中文字典"
      ],
      "metadata": {
        "id": "dKi1ehFYNK9y"
      }
    },
    {
      "cell_type": "markdown",
      "source": [
        "使用萌典ＡＰＩ查字典。\n",
        "\n",
        "* [gradio](https://gradio.app/)\n",
        "* [萌典](https://www.moedict.tw/)"
      ],
      "metadata": {
        "id": "9bAgc0eANnmt"
      }
    },
    {
      "cell_type": "code",
      "source": [
        "import requests"
      ],
      "metadata": {
        "id": "JCKmIu1qOIun"
      },
      "execution_count": 1,
      "outputs": []
    },
    {
      "cell_type": "code",
      "source": [
        "q = \"高\""
      ],
      "metadata": {
        "id": "yKlxKvE8OQbQ"
      },
      "execution_count": 2,
      "outputs": []
    },
    {
      "cell_type": "code",
      "execution_count": 3,
      "metadata": {
        "id": "sf6oD1JqNHWv"
      },
      "outputs": [],
      "source": [
        "url = f\"https://www.moedict.tw/uni/{q}\""
      ]
    },
    {
      "cell_type": "code",
      "source": [
        "result = requests.get(url).json()"
      ],
      "metadata": {
        "id": "XpqwwNU1OV5F"
      },
      "execution_count": 4,
      "outputs": []
    },
    {
      "cell_type": "code",
      "source": [
        "result"
      ],
      "metadata": {
        "colab": {
          "base_uri": "https://localhost:8080/"
        },
        "id": "EtQ91u2bOdXH",
        "outputId": "2bcd5a66-08fb-4cf1-d7cd-ca81a06cf9bf"
      },
      "execution_count": 5,
      "outputs": [
        {
          "output_type": "execute_result",
          "data": {
            "text/plain": [
              "{'heteronyms': [{'bopomofo': 'ㄍㄠ',\n",
              "   'bopomofo2': 'gāu',\n",
              "   'definitions': [{'def': '上下距離遠的。與「低」相對。如：「山高水深」、「高樓大廈」 。', 'type': '形'},\n",
              "    {'def': '超越一般水準的、等級在上的。', 'example': ['如：「高等教育」、「高級」、「高手」。'], 'type': '形'},\n",
              "    {'def': '優良。', 'example': ['如：「高材生」。'], 'type': '形'},\n",
              "    {'def': '價格貴的。', 'example': ['如：「高價」。'], 'type': '形'},\n",
              "    {'def': '年紀老的。', 'example': ['如：「高齡」。'], 'type': '形'},\n",
              "    {'def': '聲音尖銳激昂的。', 'example': ['如：「高歌」。'], 'type': '形'},\n",
              "    {'def': '物體直立時上下的長度。', 'example': ['如：「身高」。'], 'type': '名'},\n",
              "    {'def': '高的地方。', 'example': ['如：「居高臨下」、「登高望遠」。'], 'type': '名'},\n",
              "    {'def': '姓。如唐代有高適。', 'type': '名'},\n",
              "    {'def': '二一四部首之一。', 'type': '名'},\n",
              "    {'def': '尊崇、敬重。', 'quote': ['韓非子．五蠹：「以其不收也外之，而高其輕世也。」'], 'type': '動'}],\n",
              "   'pinyin': 'gāo'}],\n",
              " 'non_radical_stroke_count': 0,\n",
              " 'radical': '高',\n",
              " 'stroke_count': 10,\n",
              " 'title': '高'}"
            ]
          },
          "metadata": {},
          "execution_count": 5
        }
      ]
    },
    {
      "cell_type": "code",
      "source": [
        "type(result)"
      ],
      "metadata": {
        "colab": {
          "base_uri": "https://localhost:8080/"
        },
        "id": "OUKANPQQOedK",
        "outputId": "822c0897-03a6-4b2f-f184-3456209f2a41"
      },
      "execution_count": 6,
      "outputs": [
        {
          "output_type": "execute_result",
          "data": {
            "text/plain": [
              "dict"
            ]
          },
          "metadata": {},
          "execution_count": 6
        }
      ]
    },
    {
      "cell_type": "code",
      "source": [
        ""
      ],
      "metadata": {
        "id": "vXxFsMctOyLr"
      },
      "execution_count": null,
      "outputs": []
    }
  ]
}