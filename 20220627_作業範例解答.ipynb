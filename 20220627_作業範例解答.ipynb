{
  "nbformat": 4,
  "nbformat_minor": 0,
  "metadata": {
    "colab": {
      "name": "20220627-作業範例解答.ipynb",
      "provenance": [],
      "authorship_tag": "ABX9TyP2qhbpDxM88yw9fETSJgl6",
      "include_colab_link": true
    },
    "kernelspec": {
      "name": "python3",
      "display_name": "Python 3"
    },
    "language_info": {
      "name": "python"
    }
  },
  "cells": [
    {
      "cell_type": "markdown",
      "metadata": {
        "id": "view-in-github",
        "colab_type": "text"
      },
      "source": [
        "<a href=\"https://colab.research.google.com/github/vcdemy/2022_Summer_Camp_01/blob/main/20220627_%E4%BD%9C%E6%A5%AD%E7%AF%84%E4%BE%8B%E8%A7%A3%E7%AD%94.ipynb\" target=\"_parent\"><img src=\"https://colab.research.google.com/assets/colab-badge.svg\" alt=\"Open In Colab\"/></a>"
      ]
    },
    {
      "cell_type": "markdown",
      "source": [
        "# 使用 Gradio + 萌典，寫一個中文字典"
      ],
      "metadata": {
        "id": "dKi1ehFYNK9y"
      }
    },
    {
      "cell_type": "markdown",
      "source": [
        "使用萌典ＡＰＩ查字典。\n",
        "\n",
        "* [gradio](https://gradio.app/)\n",
        "* [萌典](https://www.moedict.tw/)"
      ],
      "metadata": {
        "id": "9bAgc0eANnmt"
      }
    },
    {
      "cell_type": "code",
      "source": [
        "import requests"
      ],
      "metadata": {
        "id": "JCKmIu1qOIun"
      },
      "execution_count": 1,
      "outputs": []
    },
    {
      "cell_type": "code",
      "source": [
        "def lookup(word):\n",
        "  url = f\"https://www.moedict.tw/uni/{word}\"\n",
        "  result = requests.get(url).json()\n",
        "  return result"
      ],
      "metadata": {
        "id": "T49L-xx0_D6s"
      },
      "execution_count": 2,
      "outputs": []
    },
    {
      "cell_type": "code",
      "source": [
        "lookup(\"森林\")"
      ],
      "metadata": {
        "colab": {
          "base_uri": "https://localhost:8080/"
        },
        "id": "VErKZjM-_WVW",
        "outputId": "208c8bdf-81a6-41a7-cb6e-8fbdd8f08c57"
      },
      "execution_count": 3,
      "outputs": [
        {
          "output_type": "execute_result",
          "data": {
            "text/plain": [
              "{'heteronyms': [{'bopomofo': 'ㄙㄣ ㄌㄧㄣˊ',\n",
              "   'bopomofo2': 'sēn lín',\n",
              "   'definitions': [{'def': '樹木密生的寬廣地區。',\n",
              "     'example': ['如：「森林兼具木材供應、水土保持、觀光休憩等功能，是重要的天然資源之一。」'],\n",
              "     'synonyms': '叢林'}],\n",
              "   'pinyin': 'sēn lín'}],\n",
              " 'title': '森林'}"
            ]
          },
          "metadata": {},
          "execution_count": 3
        }
      ]
    },
    {
      "cell_type": "code",
      "source": [
        "!pip install gradio"
      ],
      "metadata": {
        "id": "Bnh-Y43FAFVz"
      },
      "execution_count": null,
      "outputs": []
    },
    {
      "cell_type": "code",
      "source": [
        "import gradio as gr\n",
        "\n",
        "demo = gr.Interface(fn=lookup, inputs=\"text\", outputs=\"text\", title=\"中文辭典\")\n",
        "\n",
        "demo.launch(share=True)"
      ],
      "metadata": {
        "colab": {
          "base_uri": "https://localhost:8080/",
          "height": 646
        },
        "id": "8e4bsU5nAGmt",
        "outputId": "81821142-bb1f-46e6-afdf-4a3ab58ceabf"
      },
      "execution_count": 6,
      "outputs": [
        {
          "output_type": "stream",
          "name": "stdout",
          "text": [
            "Colab notebook detected. To show errors in colab notebook, set `debug=True` in `launch()`\n",
            "Running on public URL: https://10012.gradio.app\n",
            "\n",
            "This share link expires in 72 hours. For free permanent hosting, check out Spaces (https://huggingface.co/spaces)\n"
          ]
        },
        {
          "output_type": "display_data",
          "data": {
            "text/plain": [
              "<IPython.core.display.HTML object>"
            ],
            "text/html": [
              "<div><iframe src=\"https://10012.gradio.app\" width=\"900\" height=\"500\" allow=\"autoplay; camera; microphone;\" frameborder=\"0\" allowfullscreen></iframe></div>"
            ]
          },
          "metadata": {}
        },
        {
          "output_type": "execute_result",
          "data": {
            "text/plain": [
              "(<gradio.routes.App at 0x7f9150d574d0>,\n",
              " 'http://127.0.0.1:7861/',\n",
              " 'https://10012.gradio.app')"
            ]
          },
          "metadata": {},
          "execution_count": 6
        }
      ]
    }
  ]
}