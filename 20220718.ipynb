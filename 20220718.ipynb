{
  "nbformat": 4,
  "nbformat_minor": 0,
  "metadata": {
    "colab": {
      "name": "20220718.ipynb",
      "provenance": [],
      "authorship_tag": "ABX9TyMcFQ/Tx9G+uAWcpZCWZDSj",
      "include_colab_link": true
    },
    "kernelspec": {
      "name": "python3",
      "display_name": "Python 3"
    },
    "language_info": {
      "name": "python"
    }
  },
  "cells": [
    {
      "cell_type": "markdown",
      "metadata": {
        "id": "view-in-github",
        "colab_type": "text"
      },
      "source": [
        "<a href=\"https://colab.research.google.com/github/vcdemy/2022_Summer_Camp_01/blob/main/20220718.ipynb\" target=\"_parent\"><img src=\"https://colab.research.google.com/assets/colab-badge.svg\" alt=\"Open In Colab\"/></a>"
      ]
    },
    {
      "cell_type": "markdown",
      "source": [
        "# 20220718"
      ],
      "metadata": {
        "id": "MfXs4zRvzq1x"
      }
    },
    {
      "cell_type": "markdown",
      "source": [
        "## 20220713 - 作業參考解答"
      ],
      "metadata": {
        "id": "VciZrSgf0WP6"
      }
    },
    {
      "cell_type": "code",
      "execution_count": null,
      "metadata": {
        "id": "GECKljZ0zoJL"
      },
      "outputs": [],
      "source": [
        "import requests\n",
        "from bs4 import BeautifulSoup"
      ]
    },
    {
      "cell_type": "code",
      "source": [
        "url = \"http://jimmyts.pixnet.net/album/set/2374457-pokemon-go\""
      ],
      "metadata": {
        "id": "t02cKdw50nmA"
      },
      "execution_count": null,
      "outputs": []
    },
    {
      "cell_type": "code",
      "source": [
        "r = requests.get(url)"
      ],
      "metadata": {
        "id": "S7ctNCmF0osk"
      },
      "execution_count": null,
      "outputs": []
    },
    {
      "cell_type": "code",
      "source": [
        "r.encoding = \"utf-8\""
      ],
      "metadata": {
        "id": "huA31bAX12Rn"
      },
      "execution_count": null,
      "outputs": []
    },
    {
      "cell_type": "code",
      "source": [
        "soup = BeautifulSoup(r.text)"
      ],
      "metadata": {
        "id": "_xitzq5X1OAp"
      },
      "execution_count": null,
      "outputs": []
    },
    {
      "cell_type": "code",
      "source": [
        "imgs = soup.select(\".photo-grid-list img\")"
      ],
      "metadata": {
        "id": "OyOHnr8e1jEt"
      },
      "execution_count": null,
      "outputs": []
    },
    {
      "cell_type": "code",
      "source": [
        "imgs[0]"
      ],
      "metadata": {
        "colab": {
          "base_uri": "https://localhost:8080/"
        },
        "id": "VWnVZb633pOr",
        "outputId": "18ba6e20-61b6-4f06-8e5e-bae43fa9664a"
      },
      "execution_count": null,
      "outputs": [
        {
          "output_type": "execute_result",
          "data": {
            "text/plain": [
              "<img alt=\"IMG_8213.PNG\" class=\"thumb\" height=\"120\" src=\"https://pic.pimg.tw/jimmyts/1468302230-632604139_s.png\" width=\"120\"/>"
            ]
          },
          "metadata": {},
          "execution_count": 13
        }
      ]
    },
    {
      "cell_type": "code",
      "source": [
        "for img in imgs:\n",
        "  print(img.get(\"src\"))"
      ],
      "metadata": {
        "colab": {
          "base_uri": "https://localhost:8080/"
        },
        "id": "b64WW1m53c8n",
        "outputId": "07da0fba-0949-4007-b922-c3a70f442285"
      },
      "execution_count": null,
      "outputs": [
        {
          "output_type": "stream",
          "name": "stdout",
          "text": [
            "https://pic.pimg.tw/jimmyts/1468302230-632604139_s.png\n",
            "https://pic.pimg.tw/jimmyts/1473216280-353769481_s.jpg\n",
            "https://pic.pimg.tw/jimmyts/1473216280-3763391123_s.jpg\n",
            "https://pic.pimg.tw/jimmyts/1473332659-96598337_s.jpg\n",
            "https://pic.pimg.tw/jimmyts/1473332709-274480695_s.jpg\n",
            "https://pic.pimg.tw/jimmyts/1473332752-2824594462_s.jpg\n",
            "https://pic.pimg.tw/jimmyts/1473332812-2589764259_s.jpg\n",
            "https://pic.pimg.tw/jimmyts/1473333041-4128680970_s.jpg\n",
            "https://pic.pimg.tw/jimmyts/1473592981-1596477319_s.jpg\n",
            "https://pic.pimg.tw/jimmyts/1473593314-2078276936_s.jpg\n",
            "https://pic.pimg.tw/jimmyts/1473593356-1566458337_s.jpg\n",
            "https://pic.pimg.tw/jimmyts/1473593380-3632338577_s.jpg\n",
            "https://pic.pimg.tw/jimmyts/1473593407-2656978984_s.jpg\n",
            "https://pic.pimg.tw/jimmyts/1473593793-2716208951_s.jpg\n",
            "https://pic.pimg.tw/jimmyts/1473648507-2433764218_s.png\n",
            "https://pic.pimg.tw/jimmyts/1473648728-110570407_s.png\n",
            "https://pic.pimg.tw/jimmyts/1473648728-2398114218_s.png\n",
            "https://pic.pimg.tw/jimmyts/1473649832-2851034535_s.png\n",
            "https://pic.pimg.tw/jimmyts/1473649832-2516106490_s.png\n",
            "https://pic.pimg.tw/jimmyts/1473649832-3733406416_s.png\n",
            "https://pic.pimg.tw/jimmyts/1473649832-3462383147_s.png\n",
            "https://pic.pimg.tw/jimmyts/1473863746-4232209147_s.jpg\n",
            "https://pic.pimg.tw/jimmyts/1473863866-3088626343_s.jpg\n",
            "https://pic.pimg.tw/jimmyts/1473863921-1287626477_s.jpg\n",
            "https://pic.pimg.tw/jimmyts/1473863975-3957521357_s.jpg\n",
            "https://pic.pimg.tw/jimmyts/1473864377-3839365121_s.jpg\n",
            "https://pic.pimg.tw/jimmyts/1473864531-4008917655_s.jpg\n",
            "https://pic.pimg.tw/jimmyts/1473864556-2305859169_s.jpg\n",
            "https://pic.pimg.tw/jimmyts/1473864706-3230250039_s.jpg\n",
            "https://pic.pimg.tw/jimmyts/1473864793-2185057578_s.jpg\n"
          ]
        }
      ]
    },
    {
      "cell_type": "code",
      "source": [
        "for img in imgs:\n",
        "  img_url = img.get(\"src\")\n",
        "  filename = img_url.split(\"/\")[-1]\n",
        "  r = requests.get(img_url)\n",
        "  with open(filename, \"wb\") as f:\n",
        "    f.write(r.content)"
      ],
      "metadata": {
        "id": "9CT3vrq93lBC"
      },
      "execution_count": null,
      "outputs": []
    },
    {
      "cell_type": "markdown",
      "source": [
        "## 說明一下在Gradio上面，如何使用pillow(PIL) image做輸入跟輸出"
      ],
      "metadata": {
        "id": "_hQjzq1K6hKm"
      }
    },
    {
      "cell_type": "code",
      "source": [
        "from PIL import Image"
      ],
      "metadata": {
        "id": "w8UzQYJO4Qly"
      },
      "execution_count": null,
      "outputs": []
    },
    {
      "cell_type": "code",
      "source": [
        "def convert(input):\n",
        "  r, g, b = input.split()\n",
        "  return Image.merge(\"RGB\", (b, g, r))"
      ],
      "metadata": {
        "id": "T27KFJ4r67gp"
      },
      "execution_count": null,
      "outputs": []
    },
    {
      "cell_type": "code",
      "source": [
        "!pip install gradio"
      ],
      "metadata": {
        "id": "OcCJlkV77Z-d"
      },
      "execution_count": null,
      "outputs": []
    },
    {
      "cell_type": "code",
      "source": [
        "import gradio as gr"
      ],
      "metadata": {
        "id": "Y9wyhrRz7cYU"
      },
      "execution_count": null,
      "outputs": []
    },
    {
      "cell_type": "code",
      "source": [
        "gr.Interface(convert, \n",
        "             gr.inputs.Image(type=\"pil\"), \n",
        "             gr.outputs.Image(type=\"pil\"), \n",
        "             title=\"色層轉換\").launch(share=True)"
      ],
      "metadata": {
        "id": "HuUSnnsW7oGY"
      },
      "execution_count": null,
      "outputs": []
    },
    {
      "cell_type": "markdown",
      "source": [
        "## 使用爬蟲抓取國中英文單字列表"
      ],
      "metadata": {
        "id": "9fwBJNVv9-Pa"
      }
    },
    {
      "cell_type": "markdown",
      "source": [
        "* https://raw.githubusercontent.com/greenhill33/rootmemo/master/juniorhigh1.txt\n",
        "* https://raw.githubusercontent.com/greenhill33/rootmemo/master/juniorhigh2.txt\n",
        "* https://raw.githubusercontent.com/greenhill33/rootmemo/master/juniorhigh3.txt"
      ],
      "metadata": {
        "id": "LIVE19I_-ENT"
      }
    },
    {
      "cell_type": "code",
      "source": [
        "url = \"https://raw.githubusercontent.com/greenhill33/rootmemo/master/juniorhigh1.txt\""
      ],
      "metadata": {
        "id": "vB_yRGDV7-J-"
      },
      "execution_count": null,
      "outputs": []
    },
    {
      "cell_type": "code",
      "source": [
        "r = requests.get(url)"
      ],
      "metadata": {
        "id": "5aAsaaSSAbqe"
      },
      "execution_count": null,
      "outputs": []
    },
    {
      "cell_type": "code",
      "source": [
        "words = r.text.split()"
      ],
      "metadata": {
        "id": "mzDEg_lsAgKS"
      },
      "execution_count": null,
      "outputs": []
    },
    {
      "cell_type": "code",
      "source": [
        "words"
      ],
      "metadata": {
        "id": "7ejsauYpCTcf"
      },
      "execution_count": null,
      "outputs": []
    },
    {
      "cell_type": "code",
      "source": [
        "len?"
      ],
      "metadata": {
        "id": "iyZft6_nBzQj"
      },
      "execution_count": null,
      "outputs": []
    },
    {
      "cell_type": "code",
      "source": [
        "# len 是用來計算 list 裡面有幾個 items\n",
        "n = len(words)"
      ],
      "metadata": {
        "id": "lyxkfRlyAjOD"
      },
      "execution_count": null,
      "outputs": []
    },
    {
      "cell_type": "code",
      "source": [
        "\"=\" in 'education=ph.體育教育,體育課'"
      ],
      "metadata": {
        "colab": {
          "base_uri": "https://localhost:8080/"
        },
        "id": "KB3iQS71CrU9",
        "outputId": "bc06efc8-fbea-460a-abb5-21b4ed4e1ddf"
      },
      "execution_count": null,
      "outputs": [
        {
          "output_type": "execute_result",
          "data": {
            "text/plain": [
              "True"
            ]
          },
          "metadata": {},
          "execution_count": 38
        }
      ]
    },
    {
      "cell_type": "code",
      "source": [
        "'education=ph.體育教育,體育課'.split(\"=\")[0]"
      ],
      "metadata": {
        "colab": {
          "base_uri": "https://localhost:8080/",
          "height": 36
        },
        "id": "NPk8OLMXCZsS",
        "outputId": "26b46b0d-8fa5-4492-9a44-afa41b67b3db"
      },
      "execution_count": null,
      "outputs": [
        {
          "output_type": "execute_result",
          "data": {
            "text/plain": [
              "'education'"
            ],
            "application/vnd.google.colaboratory.intrinsic+json": {
              "type": "string"
            }
          },
          "metadata": {},
          "execution_count": 37
        }
      ]
    },
    {
      "cell_type": "code",
      "source": [
        "for i in range(n):\n",
        "  if \"=\" in words[i]:\n",
        "    words[i] = words[i].split(\"=\")[0]"
      ],
      "metadata": {
        "id": "XxQ91It-BsqP"
      },
      "execution_count": null,
      "outputs": []
    },
    {
      "cell_type": "code",
      "source": [
        "words"
      ],
      "metadata": {
        "id": "0canTS2GCNBn"
      },
      "execution_count": null,
      "outputs": []
    },
    {
      "cell_type": "code",
      "source": [
        "def get_words(url):\n",
        "  r = requests.get(url)\n",
        "  # 使用' '及'\\n'切割字串\n",
        "  words = r.text.split()\n",
        "  # 取得 list 的長度\n",
        "  n = len(words)\n",
        "  # 處理\"=\"及中文翻譯的部分\n",
        "  for i in range(n):\n",
        "    if \"=\" in words[i]:\n",
        "      words[i] = words[i].split(\"=\")[0]\n",
        "  # 轉換成 set，以消除重複的單字\n",
        "  return set(words)"
      ],
      "metadata": {
        "id": "MqTcqMnmCOTy"
      },
      "execution_count": null,
      "outputs": []
    },
    {
      "cell_type": "code",
      "source": [
        "words1 = get_words(\"https://raw.githubusercontent.com/greenhill33/rootmemo/master/juniorhigh1.txt\")"
      ],
      "metadata": {
        "id": "lVj9LRHuDW-t"
      },
      "execution_count": null,
      "outputs": []
    },
    {
      "cell_type": "code",
      "source": [
        "words2 = get_words(\"https://raw.githubusercontent.com/greenhill33/rootmemo/master/juniorhigh2.txt\")"
      ],
      "metadata": {
        "id": "G-Jy45HWDdI3"
      },
      "execution_count": null,
      "outputs": []
    },
    {
      "cell_type": "code",
      "source": [
        "words3 = get_words(\"https://raw.githubusercontent.com/greenhill33/rootmemo/master/juniorhigh3.txt\")"
      ],
      "metadata": {
        "id": "hla6WwGFDgHK"
      },
      "execution_count": null,
      "outputs": []
    },
    {
      "cell_type": "code",
      "source": [
        "len(words1)"
      ],
      "metadata": {
        "colab": {
          "base_uri": "https://localhost:8080/"
        },
        "id": "aE5qzNt7DmiO",
        "outputId": "f1af199c-c53b-40b6-a19e-efdfe5ab5f2a"
      },
      "execution_count": null,
      "outputs": [
        {
          "output_type": "execute_result",
          "data": {
            "text/plain": [
              "1335"
            ]
          },
          "metadata": {},
          "execution_count": 45
        }
      ]
    },
    {
      "cell_type": "code",
      "source": [
        "len(words2)"
      ],
      "metadata": {
        "colab": {
          "base_uri": "https://localhost:8080/"
        },
        "id": "UGCMCuN2EKMX",
        "outputId": "000d4216-5502-4300-c312-386ab7a6fdda"
      },
      "execution_count": null,
      "outputs": [
        {
          "output_type": "execute_result",
          "data": {
            "text/plain": [
              "1665"
            ]
          },
          "metadata": {},
          "execution_count": 46
        }
      ]
    },
    {
      "cell_type": "code",
      "source": [
        "len(words3)"
      ],
      "metadata": {
        "colab": {
          "base_uri": "https://localhost:8080/"
        },
        "id": "hfky13C8EOVM",
        "outputId": "483c338c-abce-49c3-c8d0-b13731f785b4"
      },
      "execution_count": null,
      "outputs": [
        {
          "output_type": "execute_result",
          "data": {
            "text/plain": [
              "2052"
            ]
          },
          "metadata": {},
          "execution_count": 47
        }
      ]
    },
    {
      "cell_type": "code",
      "source": [
        "# 取交集後，計算交集中的 items 的個數\n",
        "len(words1 & words2)"
      ],
      "metadata": {
        "colab": {
          "base_uri": "https://localhost:8080/"
        },
        "id": "DtmxbcnZETiu",
        "outputId": "59172c3b-4acd-4f68-e6ff-b20f95e695da"
      },
      "execution_count": null,
      "outputs": [
        {
          "output_type": "execute_result",
          "data": {
            "text/plain": [
              "1335"
            ]
          },
          "metadata": {},
          "execution_count": 49
        }
      ]
    },
    {
      "cell_type": "code",
      "source": [
        "news = \"\"\"When Chinese leader Xi Jinping made his first state visit to Europe in 2014, he set out to herald a new era of cooperation in a multi-country tour, which the European Parliament President at the time called \"a welcome signal of the importance that the new Chinese leader attaches to a strengthened EU-China partnership.\"\n",
        "\n",
        "Eight years later, the optimism of that period has cratered, with the relationship between China and the European Union reaching what analysts call a clear low point of recent decades.\n",
        "European concern about China's global ambitions and its human rights record, US-China tensions, tit-for-tat sanctions and, now, Russia's war in Ukraine -- the impact of which on China-EU ties Beijing appears to have either underestimated or dismissed -- have all brought relations to a nadir.\n",
        "Europe sees China through a Russian lens, and Beijing is not happy\n",
        "That was underlined last month during two summits featuring European leaders. Both the Group of Seven (G7) advanced economies and NATO significantly hardened their lines on China, in a signal that views in Europe have fallen more in line with Washington's.\n",
        "The shift is the culmination of a series of steps in which Beijing may have at times underestimated the extent to which it was pushing Europe away, but also appeared prepared to pay that price.\n",
        "But it is a significant blow for Beijing's ideal vision: a Europe with robust China ties that provides a counterbalance to American power and posture.\n",
        "\"China and the EU should act as two major forces upholding world peace, and offset uncertainties in the international landscape,\" Xi told EU leaders at a summit in April, urging them to reject \"rival-bloc mentality.\"\n",
        "But those words appeared to fall flat with the European side, which focused instead on pressing China to help broker peace in Ukraine. \"The dialogue was everything but a dialogue. In any case, it was a dialogue of the deaf,\" EU foreign affairs chief Josep Borrell said afterward.\"\"\""
      ],
      "metadata": {
        "id": "HAGkp-hjEake"
      },
      "execution_count": null,
      "outputs": []
    },
    {
      "cell_type": "markdown",
      "source": [
        "### How to remove punctuation"
      ],
      "metadata": {
        "id": "Bn0r7Y_WHoyD"
      }
    },
    {
      "cell_type": "markdown",
      "source": [
        "#### methon 1:"
      ],
      "metadata": {
        "id": "LFXmpw57H3UV"
      }
    },
    {
      "cell_type": "code",
      "source": [
        "s = \"It's my book!\""
      ],
      "metadata": {
        "id": "lNy7C3QAGU6m"
      },
      "execution_count": null,
      "outputs": []
    },
    {
      "cell_type": "code",
      "source": [
        "punctuations = \"',.!\"\n",
        "for c in punctuations:\n",
        "  s = s.replace(c, \"\")"
      ],
      "metadata": {
        "id": "lxawHw4fGYk5"
      },
      "execution_count": null,
      "outputs": []
    },
    {
      "cell_type": "code",
      "source": [
        "s"
      ],
      "metadata": {
        "colab": {
          "base_uri": "https://localhost:8080/",
          "height": 36
        },
        "id": "NAft9ILRGecD",
        "outputId": "9b38e51e-0bfd-4295-f891-6e6addec8a93"
      },
      "execution_count": null,
      "outputs": [
        {
          "output_type": "execute_result",
          "data": {
            "text/plain": [
              "'Its my book'"
            ],
            "application/vnd.google.colaboratory.intrinsic+json": {
              "type": "string"
            }
          },
          "metadata": {},
          "execution_count": 58
        }
      ]
    },
    {
      "cell_type": "markdown",
      "source": [
        "#### method 2:"
      ],
      "metadata": {
        "id": "jg4obbNxHwO8"
      }
    },
    {
      "cell_type": "code",
      "source": [
        "import string"
      ],
      "metadata": {
        "id": "F9te74QdHL-L"
      },
      "execution_count": null,
      "outputs": []
    },
    {
      "cell_type": "code",
      "source": [
        "string.punctuation"
      ],
      "metadata": {
        "colab": {
          "base_uri": "https://localhost:8080/",
          "height": 36
        },
        "id": "pr6s5IPIHfMU",
        "outputId": "650299e7-fbe8-4773-8b2e-7b91b7dea255"
      },
      "execution_count": null,
      "outputs": [
        {
          "output_type": "execute_result",
          "data": {
            "text/plain": [
              "'!\"#$%&\\'()*+,-./:;<=>?@[\\\\]^_`{|}~'"
            ],
            "application/vnd.google.colaboratory.intrinsic+json": {
              "type": "string"
            }
          },
          "metadata": {},
          "execution_count": 60
        }
      ]
    },
    {
      "cell_type": "code",
      "source": [
        "for c in string.punctuation:\n",
        "  s = s.replace(c, \"\")"
      ],
      "metadata": {
        "id": "dvp4Mn1ZHhQi"
      },
      "execution_count": null,
      "outputs": []
    },
    {
      "cell_type": "markdown",
      "source": [
        "### 分析新聞文章"
      ],
      "metadata": {
        "id": "EgfISfgcH9ug"
      }
    },
    {
      "cell_type": "code",
      "source": [
        "for c in string.punctuation:\n",
        "  news = news.replace(c, \" \")"
      ],
      "metadata": {
        "id": "CW0Qqy0oHmNm"
      },
      "execution_count": null,
      "outputs": []
    },
    {
      "cell_type": "code",
      "source": [
        "news = news.lower()"
      ],
      "metadata": {
        "id": "eTQnMKMVIHEh"
      },
      "execution_count": null,
      "outputs": []
    },
    {
      "cell_type": "code",
      "source": [
        "news"
      ],
      "metadata": {
        "colab": {
          "base_uri": "https://localhost:8080/",
          "height": 214
        },
        "id": "IFXXy9jEITlQ",
        "outputId": "e531fe3d-2aac-4913-f7c2-3209c2c9b7f5"
      },
      "execution_count": null,
      "outputs": [
        {
          "output_type": "execute_result",
          "data": {
            "text/plain": [
              "'when chinese leader xi jinping made his first state visit to europe in 2014  he set out to herald a new era of cooperation in a multi country tour  which the european parliament president at the time called  a welcome signal of the importance that the new chinese leader attaches to a strengthened eu china partnership  \\n\\neight years later  the optimism of that period has cratered  with the relationship between china and the european union reaching what analysts call a clear low point of recent decades \\neuropean concern about china s global ambitions and its human rights record  us china tensions  tit for tat sanctions and  now  russia s war in ukraine    the impact of which on china eu ties beijing appears to have either underestimated or dismissed    have all brought relations to a nadir \\neurope sees china through a russian lens  and beijing is not happy\\nthat was underlined last month during two summits featuring european leaders  both the group of seven  g7  advanced economies and nato significantly hardened their lines on china  in a signal that views in europe have fallen more in line with washington s \\nthe shift is the culmination of a series of steps in which beijing may have at times underestimated the extent to which it was pushing europe away  but also appeared prepared to pay that price \\nbut it is a significant blow for beijing s ideal vision  a europe with robust china ties that provides a counterbalance to american power and posture \\n china and the eu should act as two major forces upholding world peace  and offset uncertainties in the international landscape   xi told eu leaders at a summit in april  urging them to reject  rival bloc mentality  \\nbut those words appeared to fall flat with the european side  which focused instead on pressing china to help broker peace in ukraine   the dialogue was everything but a dialogue  in any case  it was a dialogue of the deaf   eu foreign affairs chief josep borrell said afterward '"
            ],
            "application/vnd.google.colaboratory.intrinsic+json": {
              "type": "string"
            }
          },
          "metadata": {},
          "execution_count": 66
        }
      ]
    },
    {
      "cell_type": "code",
      "source": [
        "news_words = set(news.split())"
      ],
      "metadata": {
        "id": "smUH7p0ZIUW-"
      },
      "execution_count": null,
      "outputs": []
    },
    {
      "cell_type": "code",
      "source": [
        "len(news_words)"
      ],
      "metadata": {
        "colab": {
          "base_uri": "https://localhost:8080/"
        },
        "id": "WtFbsoyBIcHu",
        "outputId": "8ed93cf2-6db9-4e83-cf8a-14ddc3cd6a8f"
      },
      "execution_count": null,
      "outputs": [
        {
          "output_type": "execute_result",
          "data": {
            "text/plain": [
              "198"
            ]
          },
          "metadata": {},
          "execution_count": 68
        }
      ]
    },
    {
      "cell_type": "code",
      "source": [
        "len(words3 & news_words)"
      ],
      "metadata": {
        "colab": {
          "base_uri": "https://localhost:8080/"
        },
        "id": "k6eCdyjiIewg",
        "outputId": "694fee86-9ca7-494c-af94-565d18c1a246"
      },
      "execution_count": null,
      "outputs": [
        {
          "output_type": "execute_result",
          "data": {
            "text/plain": [
              "87"
            ]
          },
          "metadata": {},
          "execution_count": 69
        }
      ]
    },
    {
      "cell_type": "code",
      "source": [
        "len(words3 & news_words)/len(news_words)"
      ],
      "metadata": {
        "colab": {
          "base_uri": "https://localhost:8080/"
        },
        "id": "FnLCGhirIr7w",
        "outputId": "faf7c66f-d818-4e54-d45f-b117aa01d80c"
      },
      "execution_count": null,
      "outputs": [
        {
          "output_type": "execute_result",
          "data": {
            "text/plain": [
              "0.4393939393939394"
            ]
          },
          "metadata": {},
          "execution_count": 70
        }
      ]
    },
    {
      "cell_type": "code",
      "source": [
        "words4 = get_words(\"https://raw.githubusercontent.com/greenhill33/rootmemo/master/high_gov_levels.txt\")"
      ],
      "metadata": {
        "id": "GspEHdqyJCNx"
      },
      "execution_count": null,
      "outputs": []
    },
    {
      "cell_type": "code",
      "source": [
        "len(words4 & news_words)"
      ],
      "metadata": {
        "colab": {
          "base_uri": "https://localhost:8080/"
        },
        "id": "xyLY1LFZKBah",
        "outputId": "75a91c1c-4b77-48b9-df00-b50b75286fdc"
      },
      "execution_count": null,
      "outputs": [
        {
          "output_type": "execute_result",
          "data": {
            "text/plain": [
              "109"
            ]
          },
          "metadata": {},
          "execution_count": 74
        }
      ]
    },
    {
      "cell_type": "code",
      "source": [
        "len(words4 & news_words)/len(news_words)"
      ],
      "metadata": {
        "colab": {
          "base_uri": "https://localhost:8080/"
        },
        "id": "EAzDwL8UKHNR",
        "outputId": "68b55a82-0972-4f7e-ecd0-a0e6c685ce03"
      },
      "execution_count": null,
      "outputs": [
        {
          "output_type": "execute_result",
          "data": {
            "text/plain": [
              "0.5505050505050505"
            ]
          },
          "metadata": {},
          "execution_count": 75
        }
      ]
    },
    {
      "cell_type": "code",
      "source": [
        "len(words3 & words4)"
      ],
      "metadata": {
        "colab": {
          "base_uri": "https://localhost:8080/"
        },
        "id": "bsxwdYKrKRtt",
        "outputId": "80842c16-92e1-4aad-910f-468ec1f028d9"
      },
      "execution_count": null,
      "outputs": [
        {
          "output_type": "execute_result",
          "data": {
            "text/plain": [
              "1770"
            ]
          },
          "metadata": {},
          "execution_count": 77
        }
      ]
    },
    {
      "cell_type": "code",
      "source": [
        "len(words3)"
      ],
      "metadata": {
        "colab": {
          "base_uri": "https://localhost:8080/"
        },
        "id": "39dAPgQgKZZn",
        "outputId": "ecff8cb3-40de-45ee-fbf8-e4b99d6f2215"
      },
      "execution_count": null,
      "outputs": [
        {
          "output_type": "execute_result",
          "data": {
            "text/plain": [
              "2052"
            ]
          },
          "metadata": {},
          "execution_count": 78
        }
      ]
    },
    {
      "cell_type": "markdown",
      "source": [
        "## 抓取網路上的文章"
      ],
      "metadata": {
        "id": "RCWopO64O-Kx"
      }
    },
    {
      "cell_type": "code",
      "source": [
        "url = \"https://edition.cnn.com/2022/07/17/china/china-europe-relations-ukraine-russia-intl-mic-hnk/index.html\""
      ],
      "metadata": {
        "id": "ECyUFCsIKgkY"
      },
      "execution_count": null,
      "outputs": []
    },
    {
      "cell_type": "code",
      "source": [
        "r = requests.get(url)"
      ],
      "metadata": {
        "id": "aEGDeq5CPBut"
      },
      "execution_count": null,
      "outputs": []
    },
    {
      "cell_type": "code",
      "source": [
        "soup = BeautifulSoup(r.text)"
      ],
      "metadata": {
        "id": "vbgTAp6YPFnF"
      },
      "execution_count": null,
      "outputs": []
    },
    {
      "cell_type": "code",
      "source": [
        "article = soup.select(\".l-container\")[0].text"
      ],
      "metadata": {
        "id": "VoYYsaBnPXqI"
      },
      "execution_count": null,
      "outputs": []
    },
    {
      "cell_type": "code",
      "source": [
        "with open(\"news.txt\",\"w\") as f:\n",
        "  f.write(article)"
      ],
      "metadata": {
        "id": "CRyyC6tYPaHn"
      },
      "execution_count": null,
      "outputs": []
    },
    {
      "cell_type": "markdown",
      "source": [
        "## 解 a005"
      ],
      "metadata": {
        "id": "G_VqSx1ZSUKM"
      }
    },
    {
      "cell_type": "code",
      "source": [
        "x = list('12345')"
      ],
      "metadata": {
        "id": "d1yGcVDWTVdd"
      },
      "execution_count": null,
      "outputs": []
    },
    {
      "cell_type": "code",
      "source": [
        "x"
      ],
      "metadata": {
        "colab": {
          "base_uri": "https://localhost:8080/"
        },
        "id": "vKwG0XLqTYeV",
        "outputId": "270d5eb4-8e2d-4628-f62a-1c8312c7eccc"
      },
      "execution_count": null,
      "outputs": [
        {
          "output_type": "execute_result",
          "data": {
            "text/plain": [
              "['1', '2', '3', '4', '5']"
            ]
          },
          "metadata": {},
          "execution_count": 93
        }
      ]
    },
    {
      "cell_type": "code",
      "source": [
        "list(map(int, x))"
      ],
      "metadata": {
        "colab": {
          "base_uri": "https://localhost:8080/"
        },
        "id": "mPKrCgwCTnpH",
        "outputId": "6f136ed4-b0cb-425d-ab0f-60f58eef87a8"
      },
      "execution_count": null,
      "outputs": [
        {
          "output_type": "execute_result",
          "data": {
            "text/plain": [
              "[1, 2, 3, 4, 5]"
            ]
          },
          "metadata": {},
          "execution_count": 94
        }
      ]
    },
    {
      "cell_type": "code",
      "source": [
        "def foo(a):\n",
        "  u = int(a)\n",
        "  return u*u"
      ],
      "metadata": {
        "id": "n5RICCWQT5TT"
      },
      "execution_count": null,
      "outputs": []
    },
    {
      "cell_type": "code",
      "source": [
        "list(map(foo, x))"
      ],
      "metadata": {
        "colab": {
          "base_uri": "https://localhost:8080/"
        },
        "id": "Iu3xFgcWUGFp",
        "outputId": "fc3ac5c0-cbdd-47f2-b48d-0af24e47795a"
      },
      "execution_count": null,
      "outputs": [
        {
          "output_type": "execute_result",
          "data": {
            "text/plain": [
              "[1, 4, 9, 16, 25]"
            ]
          },
          "metadata": {},
          "execution_count": 96
        }
      ]
    },
    {
      "cell_type": "code",
      "source": [
        "map?"
      ],
      "metadata": {
        "id": "BAGekcCITODy"
      },
      "execution_count": null,
      "outputs": []
    },
    {
      "cell_type": "code",
      "source": [
        "n = int(input())\n",
        "while n > 0:\n",
        "  inputs = list(map(int, input().split()))\n",
        "  if (inputs[1]-inputs[0])==(inputs[2]-inputs[1]):\n",
        "    # 等差數列\n",
        "    inputs.append(inputs[3] + inputs[1]-inputs[0]) \n",
        "  else:\n",
        "    inputs.append(inputs[3]*inputs[1]//inputs[0])\n",
        "  inputs = list(map(str, inputs))\n",
        "  print(\" \".join(inputs))\n",
        "  n = n - 1"
      ],
      "metadata": {
        "colab": {
          "base_uri": "https://localhost:8080/"
        },
        "id": "Y_aScbcmQZ5t",
        "outputId": "cbdc53e9-af5f-4686-a2ce-aa7ac54bcc44"
      },
      "execution_count": null,
      "outputs": [
        {
          "output_type": "stream",
          "name": "stdout",
          "text": [
            "2\n",
            "1 2 3 4\n",
            "1 2 3 4 5\n",
            "1 2 4 8\n",
            "1 2 4 8 16\n"
          ]
        }
      ]
    },
    {
      "cell_type": "code",
      "source": [
        "x = 2\n",
        "y = 3 if x==1 else 6"
      ],
      "metadata": {
        "id": "l7uTxitMS42M"
      },
      "execution_count": null,
      "outputs": []
    },
    {
      "cell_type": "code",
      "source": [
        "y"
      ],
      "metadata": {
        "colab": {
          "base_uri": "https://localhost:8080/"
        },
        "id": "-AzAw2oZYLLS",
        "outputId": "5a0a2e17-27d8-4c77-9c5d-2d262aa14141"
      },
      "execution_count": null,
      "outputs": [
        {
          "output_type": "execute_result",
          "data": {
            "text/plain": [
              "6"
            ]
          },
          "metadata": {},
          "execution_count": 103
        }
      ]
    },
    {
      "cell_type": "code",
      "source": [
        "for t in range(int(input())):\n",
        "  n = list(map(int, input().split()))\n",
        "  print(*n, end=\" \")\n",
        "  print(int(n[3]*(n[1]/n[0]))) if n[1]/n[0] == n[2]/n[1] else print(n[3]+(n[1]-n[0]))"
      ],
      "metadata": {
        "id": "jjonKmc8YL_P"
      },
      "execution_count": null,
      "outputs": []
    },
    {
      "cell_type": "code",
      "source": [
        "x = list(\"1234\")"
      ],
      "metadata": {
        "id": "0Iu_WvpqYvPF"
      },
      "execution_count": null,
      "outputs": []
    },
    {
      "cell_type": "code",
      "source": [
        "x"
      ],
      "metadata": {
        "colab": {
          "base_uri": "https://localhost:8080/"
        },
        "id": "OR5oZkAcYxp-",
        "outputId": "1769254d-1152-4888-ddd2-d001ae247958"
      },
      "execution_count": null,
      "outputs": [
        {
          "output_type": "execute_result",
          "data": {
            "text/plain": [
              "['1', '2', '3', '4']"
            ]
          },
          "metadata": {},
          "execution_count": 105
        }
      ]
    },
    {
      "cell_type": "code",
      "source": [
        "print(*x, end=\" \")"
      ],
      "metadata": {
        "colab": {
          "base_uri": "https://localhost:8080/"
        },
        "id": "qT3nh8C3YyMC",
        "outputId": "449f384a-4990-45a6-ab8f-730707bc5cc8"
      },
      "execution_count": null,
      "outputs": [
        {
          "output_type": "stream",
          "name": "stdout",
          "text": [
            "1 2 3 4 "
          ]
        }
      ]
    },
    {
      "cell_type": "code",
      "source": [
        "print(\"1\", \"2\", \"3\", \"4\", end=\" \")"
      ],
      "metadata": {
        "id": "PxLL6ImGY24t"
      },
      "execution_count": null,
      "outputs": []
    },
    {
      "cell_type": "markdown",
      "source": [
        "# Homework:\n",
        "\n",
        "1. 找一篇英文文章，分析裡面的國中英文單字的比例\n",
        "2. (optional) [a009](https://zerojudge.tw/ShowProblem?problemid=a009)"
      ],
      "metadata": {
        "id": "vpbMv6a0Zmwj"
      }
    },
    {
      "cell_type": "code",
      "source": [
        ""
      ],
      "metadata": {
        "id": "FXhmOcBeaFQN"
      },
      "execution_count": null,
      "outputs": []
    }
  ]
}