{
  "nbformat": 4,
  "nbformat_minor": 0,
  "metadata": {
    "colab": {
      "name": "20220704.ipynb",
      "provenance": [],
      "collapsed_sections": [],
      "authorship_tag": "ABX9TyMMV0UfJPtFO9FDuW7gO87f",
      "include_colab_link": true
    },
    "kernelspec": {
      "name": "python3",
      "display_name": "Python 3"
    },
    "language_info": {
      "name": "python"
    }
  },
  "cells": [
    {
      "cell_type": "markdown",
      "metadata": {
        "id": "view-in-github",
        "colab_type": "text"
      },
      "source": [
        "<a href=\"https://colab.research.google.com/github/vcdemy/2022_Summer_Camp_01/blob/main/20220704.ipynb\" target=\"_parent\"><img src=\"https://colab.research.google.com/assets/colab-badge.svg\" alt=\"Open In Colab\"/></a>"
      ]
    },
    {
      "cell_type": "markdown",
      "source": [
        "# 猜數字遊戲 (參考解答)"
      ],
      "metadata": {
        "id": "NTypvG5RtlIE"
      }
    },
    {
      "cell_type": "code",
      "source": [
        "n = input(\"請輸入一個數字(0-99): \")"
      ],
      "metadata": {
        "colab": {
          "base_uri": "https://localhost:8080/"
        },
        "id": "PqdQ7SxStrOr",
        "outputId": "979065cb-60e3-4ea5-a894-6816252388da"
      },
      "execution_count": 1,
      "outputs": [
        {
          "name": "stdout",
          "output_type": "stream",
          "text": [
            "請輸入一個數字(0-99): 50\n"
          ]
        }
      ]
    },
    {
      "cell_type": "code",
      "source": [
        "n"
      ],
      "metadata": {
        "colab": {
          "base_uri": "https://localhost:8080/",
          "height": 36
        },
        "id": "hQCKqZRVt5iH",
        "outputId": "af3890bf-8c59-49d0-b021-d2741cf92d4a"
      },
      "execution_count": 2,
      "outputs": [
        {
          "output_type": "execute_result",
          "data": {
            "text/plain": [
              "'50'"
            ],
            "application/vnd.google.colaboratory.intrinsic+json": {
              "type": "string"
            }
          },
          "metadata": {},
          "execution_count": 2
        }
      ]
    },
    {
      "cell_type": "code",
      "source": [
        "type(n)"
      ],
      "metadata": {
        "colab": {
          "base_uri": "https://localhost:8080/"
        },
        "id": "srS7VV5Ot7Lr",
        "outputId": "598f4fa4-faee-418d-e4e6-7c2427a006a0"
      },
      "execution_count": 3,
      "outputs": [
        {
          "output_type": "execute_result",
          "data": {
            "text/plain": [
              "str"
            ]
          },
          "metadata": {},
          "execution_count": 3
        }
      ]
    },
    {
      "cell_type": "code",
      "source": [
        "int(n) > 100"
      ],
      "metadata": {
        "colab": {
          "base_uri": "https://localhost:8080/"
        },
        "id": "RDVmjn89t_Eo",
        "outputId": "f6f66942-6bbb-4aa0-f0d8-0c208ebd6729"
      },
      "execution_count": 5,
      "outputs": [
        {
          "output_type": "execute_result",
          "data": {
            "text/plain": [
              "False"
            ]
          },
          "metadata": {},
          "execution_count": 5
        }
      ]
    },
    {
      "cell_type": "code",
      "source": [
        "from random import randint"
      ],
      "metadata": {
        "id": "fTO1pQ50uX-W"
      },
      "execution_count": 6,
      "outputs": []
    },
    {
      "cell_type": "code",
      "source": [
        "answer = randint(0, 99)"
      ],
      "metadata": {
        "id": "6E6aBic3uapy"
      },
      "execution_count": 7,
      "outputs": []
    },
    {
      "cell_type": "code",
      "source": [
        "answer"
      ],
      "metadata": {
        "colab": {
          "base_uri": "https://localhost:8080/"
        },
        "id": "xJ30rMWNulUB",
        "outputId": "f7a6956d-3ef3-49e9-af0b-cae6cab870c9"
      },
      "execution_count": 8,
      "outputs": [
        {
          "output_type": "execute_result",
          "data": {
            "text/plain": [
              "67"
            ]
          },
          "metadata": {},
          "execution_count": 8
        }
      ]
    },
    {
      "cell_type": "code",
      "execution_count": 10,
      "metadata": {
        "colab": {
          "base_uri": "https://localhost:8080/"
        },
        "id": "Nm5uxZtWth1f",
        "outputId": "4563719b-17d1-4f3d-cd90-6dca56252856"
      },
      "outputs": [
        {
          "output_type": "stream",
          "name": "stdout",
          "text": [
            "請輸入一個數字(0-99): 50\n",
            "你可以再猜大一點！\n",
            "請輸入一個數字(0-99): 75\n",
            "你可以再猜大一點！\n",
            "請輸入一個數字(0-99): 87\n",
            "你可以再猜小一點！\n",
            "請輸入一個數字(0-99): 80\n",
            "猜對了!\n",
            "沒錯！答案就是80!\n",
            "你總共猜了4次！\n"
          ]
        }
      ],
      "source": [
        "answer = randint(0, 99)\n",
        "count = 0\n",
        "while True:\n",
        "  n = input(\"請輸入一個數字(0-99): \")\n",
        "  n = int(n)\n",
        "  count = count + 1 # count += 1\n",
        "  if n > answer:\n",
        "    print(\"你可以再猜小一點！\")\n",
        "  elif n < answer:\n",
        "    print(\"你可以再猜大一點！\")\n",
        "  else:\n",
        "    print(\"猜對了!\")\n",
        "    print(f\"沒錯！答案就是{answer}!\")\n",
        "    print(f\"你總共猜了{count}次！\")\n",
        "    break"
      ]
    },
    {
      "cell_type": "markdown",
      "source": [
        "# 作業：深度學習作業\n",
        "\n",
        "使用teachable machine 去分類多個不同類別的圖形，再使用下面的程式輸出分類的結果。"
      ],
      "metadata": {
        "id": "8S9_sayUwwuj"
      }
    },
    {
      "cell_type": "code",
      "source": [
        "!unzip converted_keras.zip"
      ],
      "metadata": {
        "colab": {
          "base_uri": "https://localhost:8080/"
        },
        "id": "9jc5rbkQ3end",
        "outputId": "24d1aae2-3b56-4782-bd49-607a28a5804f"
      },
      "execution_count": 11,
      "outputs": [
        {
          "output_type": "stream",
          "name": "stdout",
          "text": [
            "Archive:  converted_keras.zip\n",
            " extracting: keras_model.h5          \n",
            " extracting: labels.txt              \n"
          ]
        }
      ]
    },
    {
      "cell_type": "code",
      "source": [
        "from keras.models import load_model\n",
        "from PIL import Image, ImageOps\n",
        "import numpy as np\n",
        "\n",
        "# Load the model\n",
        "model = load_model('keras_model.h5')\n",
        "\n",
        "# Create the array of the right shape to feed into the keras model\n",
        "# The 'length' or number of images you can put into the array is\n",
        "# determined by the first position in the shape tuple, in this case 1.\n",
        "data = np.ndarray(shape=(1, 224, 224, 3), dtype=np.float32)\n",
        "# Replace this with the path to your image\n",
        "image = Image.open('/content/WIN_20220704_14_56_05_Pro.jpg')\n",
        "#resize the image to a 224x224 with the same strategy as in TM2:\n",
        "#resizing the image to be at least 224x224 and then cropping from the center\n",
        "size = (224, 224)\n",
        "image = ImageOps.fit(image, size, Image.ANTIALIAS)\n",
        "\n",
        "#turn the image into a numpy array\n",
        "image_array = np.asarray(image)\n",
        "# Normalize the image\n",
        "normalized_image_array = (image_array.astype(np.float32) / 127.0) - 1\n",
        "# Load the image into the array\n",
        "data[0] = normalized_image_array\n",
        "\n",
        "# 圖片的類別名稱\n",
        "labels = ['victor without mask', 'victor with mask']\n",
        "\n",
        "# run the inference\n",
        "prediction = model.predict(data)\n",
        "\n",
        "# 找出機率最大的結果的 index\n",
        "i = np.argmax(prediction)\n",
        "\n",
        "# 使用找出來的索引(index)，回傳類別名稱\n",
        "print(labels[i])"
      ],
      "metadata": {
        "colab": {
          "base_uri": "https://localhost:8080/"
        },
        "id": "dPOL2K83wzz_",
        "outputId": "fc2d98f3-f09c-4a5b-f047-cf6b8eacf52e"
      },
      "execution_count": 21,
      "outputs": [
        {
          "output_type": "stream",
          "name": "stdout",
          "text": [
            "WARNING:tensorflow:No training configuration found in the save file, so the model was *not* compiled. Compile it manually.\n",
            "victor with mask\n"
          ]
        }
      ]
    },
    {
      "cell_type": "code",
      "source": [
        "x = [0, 4, 2, 3, 6, 2, 5]"
      ],
      "metadata": {
        "id": "eejD7bbZ9Tw2"
      },
      "execution_count": 18,
      "outputs": []
    },
    {
      "cell_type": "code",
      "source": [
        "np.argmax(x)"
      ],
      "metadata": {
        "colab": {
          "base_uri": "https://localhost:8080/"
        },
        "id": "YmprFED59MpK",
        "outputId": "c8f2a2b9-f8ed-4cb3-9419-7b3233ad6d99"
      },
      "execution_count": 19,
      "outputs": [
        {
          "output_type": "execute_result",
          "data": {
            "text/plain": [
              "4"
            ]
          },
          "metadata": {},
          "execution_count": 19
        }
      ]
    },
    {
      "cell_type": "markdown",
      "source": [
        "# 複習迴圈"
      ],
      "metadata": {
        "id": "Fcm-8DRmCvR7"
      }
    },
    {
      "cell_type": "code",
      "source": [
        "for i in range(5):\n",
        "  print(i)"
      ],
      "metadata": {
        "colab": {
          "base_uri": "https://localhost:8080/"
        },
        "id": "NzQ3VZn19Pc4",
        "outputId": "cd66d7e7-e48e-4f69-cd46-a866c00bc4fe"
      },
      "execution_count": 22,
      "outputs": [
        {
          "output_type": "stream",
          "name": "stdout",
          "text": [
            "0\n",
            "1\n",
            "2\n",
            "3\n",
            "4\n"
          ]
        }
      ]
    },
    {
      "cell_type": "code",
      "source": [
        "list(range(5))"
      ],
      "metadata": {
        "colab": {
          "base_uri": "https://localhost:8080/"
        },
        "id": "4B-6Wl2hDFhl",
        "outputId": "38c293cf-2b19-402c-8726-aee39ee4e2f7"
      },
      "execution_count": 24,
      "outputs": [
        {
          "output_type": "execute_result",
          "data": {
            "text/plain": [
              "[0, 1, 2, 3, 4]"
            ]
          },
          "metadata": {},
          "execution_count": 24
        }
      ]
    },
    {
      "cell_type": "code",
      "source": [
        "list(range(2, 10))"
      ],
      "metadata": {
        "colab": {
          "base_uri": "https://localhost:8080/"
        },
        "id": "a7rTfFEbDJMa",
        "outputId": "09bc3b39-9290-465b-ee8f-e621e5c1f52c"
      },
      "execution_count": 25,
      "outputs": [
        {
          "output_type": "execute_result",
          "data": {
            "text/plain": [
              "[2, 3, 4, 5, 6, 7, 8, 9]"
            ]
          },
          "metadata": {},
          "execution_count": 25
        }
      ]
    },
    {
      "cell_type": "code",
      "source": [
        "for i in range(5):\n",
        "  for j in range(5):\n",
        "    print(i, j)"
      ],
      "metadata": {
        "colab": {
          "base_uri": "https://localhost:8080/"
        },
        "id": "nFanks8TC0PJ",
        "outputId": "b8511008-fc46-41b1-c44b-470dac0283cf"
      },
      "execution_count": 23,
      "outputs": [
        {
          "output_type": "stream",
          "name": "stdout",
          "text": [
            "0 0\n",
            "0 1\n",
            "0 2\n",
            "0 3\n",
            "0 4\n",
            "1 0\n",
            "1 1\n",
            "1 2\n",
            "1 3\n",
            "1 4\n",
            "2 0\n",
            "2 1\n",
            "2 2\n",
            "2 3\n",
            "2 4\n",
            "3 0\n",
            "3 1\n",
            "3 2\n",
            "3 3\n",
            "3 4\n",
            "4 0\n",
            "4 1\n",
            "4 2\n",
            "4 3\n",
            "4 4\n"
          ]
        }
      ]
    },
    {
      "cell_type": "markdown",
      "source": [
        "## 請大家用巢狀迴圈(nested-loop)印出九九乘法表 (Multiplication Table)"
      ],
      "metadata": {
        "id": "rDhljL8DDgMr"
      }
    },
    {
      "cell_type": "markdown",
      "source": [
        "```\n",
        "2 x 2 = 4\n",
        "2 x 3 = 6\n",
        "2 x 4 = 8\n",
        "...\n",
        "...\n",
        "9 x 9 = 81\n",
        "```"
      ],
      "metadata": {
        "id": "PVkE2RFZDyYs"
      }
    },
    {
      "cell_type": "code",
      "source": [
        "for i in range(2, 10):\n",
        "  for j in range(2, 10):\n",
        "    # print(i, \"x\", j, \"=\", i*j)\n",
        "    print(f\"{i} x {j} = {i*j}\")"
      ],
      "metadata": {
        "colab": {
          "base_uri": "https://localhost:8080/"
        },
        "id": "yKLy3XPADWJj",
        "outputId": "eed7d463-bc7f-4582-d051-8752a3cc17e8"
      },
      "execution_count": 29,
      "outputs": [
        {
          "output_type": "stream",
          "name": "stdout",
          "text": [
            "2 x 2 = 4\n",
            "2 x 3 = 6\n",
            "2 x 4 = 8\n",
            "2 x 5 = 10\n",
            "2 x 6 = 12\n",
            "2 x 7 = 14\n",
            "2 x 8 = 16\n",
            "2 x 9 = 18\n",
            "3 x 2 = 6\n",
            "3 x 3 = 9\n",
            "3 x 4 = 12\n",
            "3 x 5 = 15\n",
            "3 x 6 = 18\n",
            "3 x 7 = 21\n",
            "3 x 8 = 24\n",
            "3 x 9 = 27\n",
            "4 x 2 = 8\n",
            "4 x 3 = 12\n",
            "4 x 4 = 16\n",
            "4 x 5 = 20\n",
            "4 x 6 = 24\n",
            "4 x 7 = 28\n",
            "4 x 8 = 32\n",
            "4 x 9 = 36\n",
            "5 x 2 = 10\n",
            "5 x 3 = 15\n",
            "5 x 4 = 20\n",
            "5 x 5 = 25\n",
            "5 x 6 = 30\n",
            "5 x 7 = 35\n",
            "5 x 8 = 40\n",
            "5 x 9 = 45\n",
            "6 x 2 = 12\n",
            "6 x 3 = 18\n",
            "6 x 4 = 24\n",
            "6 x 5 = 30\n",
            "6 x 6 = 36\n",
            "6 x 7 = 42\n",
            "6 x 8 = 48\n",
            "6 x 9 = 54\n",
            "7 x 2 = 14\n",
            "7 x 3 = 21\n",
            "7 x 4 = 28\n",
            "7 x 5 = 35\n",
            "7 x 6 = 42\n",
            "7 x 7 = 49\n",
            "7 x 8 = 56\n",
            "7 x 9 = 63\n",
            "8 x 2 = 16\n",
            "8 x 3 = 24\n",
            "8 x 4 = 32\n",
            "8 x 5 = 40\n",
            "8 x 6 = 48\n",
            "8 x 7 = 56\n",
            "8 x 8 = 64\n",
            "8 x 9 = 72\n",
            "9 x 2 = 18\n",
            "9 x 3 = 27\n",
            "9 x 4 = 36\n",
            "9 x 5 = 45\n",
            "9 x 6 = 54\n",
            "9 x 7 = 63\n",
            "9 x 8 = 72\n",
            "9 x 9 = 81\n"
          ]
        }
      ]
    },
    {
      "cell_type": "markdown",
      "source": [
        "# 字串 (str)"
      ],
      "metadata": {
        "id": "kh0Dh7PSIutJ"
      }
    },
    {
      "cell_type": "markdown",
      "source": [
        "### Escape sequence"
      ],
      "metadata": {
        "id": "b5CfrvENK5Aw"
      }
    },
    {
      "cell_type": "code",
      "source": [
        "a=\"abc\\nabc\""
      ],
      "metadata": {
        "id": "QCC9uKa2DedG"
      },
      "execution_count": 34,
      "outputs": []
    },
    {
      "cell_type": "code",
      "source": [
        "print(a)"
      ],
      "metadata": {
        "colab": {
          "base_uri": "https://localhost:8080/"
        },
        "id": "wkYZ_JWOJZzZ",
        "outputId": "daaf6924-b38c-4347-b92d-6ec3844921b8"
      },
      "execution_count": 35,
      "outputs": [
        {
          "output_type": "stream",
          "name": "stdout",
          "text": [
            "abc\n",
            "abc\n"
          ]
        }
      ]
    },
    {
      "cell_type": "code",
      "source": [
        "b=\"abc\\bcde\""
      ],
      "metadata": {
        "id": "llhDEgNSMKds"
      },
      "execution_count": 52,
      "outputs": []
    },
    {
      "cell_type": "code",
      "source": [
        "print(b)"
      ],
      "metadata": {
        "colab": {
          "base_uri": "https://localhost:8080/"
        },
        "id": "CsTzp_YQMNIt",
        "outputId": "28c4d5a9-d60d-4a02-e0ce-00ce9c7508b6"
      },
      "execution_count": 53,
      "outputs": [
        {
          "output_type": "stream",
          "name": "stdout",
          "text": [
            "abc\bcde\n"
          ]
        }
      ]
    },
    {
      "cell_type": "code",
      "source": [
        "a = \"my dog\""
      ],
      "metadata": {
        "id": "MGtg5DQoJala"
      },
      "execution_count": 36,
      "outputs": []
    },
    {
      "cell_type": "code",
      "source": [
        "b = 'my dog'"
      ],
      "metadata": {
        "id": "VobydJSLKIxR"
      },
      "execution_count": 37,
      "outputs": []
    },
    {
      "cell_type": "code",
      "source": [
        "type(a)"
      ],
      "metadata": {
        "colab": {
          "base_uri": "https://localhost:8080/"
        },
        "id": "cYFVTYYdKJ98",
        "outputId": "801fcaee-c3e3-4fa0-e99d-970d604d799f"
      },
      "execution_count": 38,
      "outputs": [
        {
          "output_type": "execute_result",
          "data": {
            "text/plain": [
              "str"
            ]
          },
          "metadata": {},
          "execution_count": 38
        }
      ]
    },
    {
      "cell_type": "code",
      "source": [
        "type(b)"
      ],
      "metadata": {
        "colab": {
          "base_uri": "https://localhost:8080/"
        },
        "id": "DaK_49NbKLT_",
        "outputId": "e47cef36-91a7-4763-f3d7-f0bfc7ff7402"
      },
      "execution_count": 39,
      "outputs": [
        {
          "output_type": "execute_result",
          "data": {
            "text/plain": [
              "str"
            ]
          },
          "metadata": {},
          "execution_count": 39
        }
      ]
    },
    {
      "cell_type": "code",
      "source": [
        "a = \"It's my dog!\""
      ],
      "metadata": {
        "id": "gPbgXEaZKMPZ"
      },
      "execution_count": 40,
      "outputs": []
    },
    {
      "cell_type": "code",
      "source": [
        "b = 'It\\'s my dog'"
      ],
      "metadata": {
        "id": "98kkKLyVKSJQ"
      },
      "execution_count": 42,
      "outputs": []
    },
    {
      "cell_type": "markdown",
      "source": [
        "### format string"
      ],
      "metadata": {
        "id": "baJ02k-dK-Jk"
      }
    },
    {
      "cell_type": "code",
      "source": [
        "a = 'abc'\n",
        "b = 'cde'"
      ],
      "metadata": {
        "id": "jWT0w4rxKU7O"
      },
      "execution_count": 43,
      "outputs": []
    },
    {
      "cell_type": "code",
      "source": [
        "print(a, b)"
      ],
      "metadata": {
        "colab": {
          "base_uri": "https://localhost:8080/"
        },
        "id": "X9gTZiU9LJyO",
        "outputId": "321eb638-6677-4ee9-ae60-dfd20f34b34b"
      },
      "execution_count": 44,
      "outputs": [
        {
          "output_type": "stream",
          "name": "stdout",
          "text": [
            "abc cde\n"
          ]
        }
      ]
    },
    {
      "cell_type": "code",
      "source": [
        "print?"
      ],
      "metadata": {
        "id": "uZWOIDmYLLuR"
      },
      "execution_count": 45,
      "outputs": []
    },
    {
      "cell_type": "code",
      "source": [
        "print(a, b, sep=\"\")"
      ],
      "metadata": {
        "colab": {
          "base_uri": "https://localhost:8080/"
        },
        "id": "3DI2h8NCLPnJ",
        "outputId": "4eb05671-5fd3-4e3b-be68-de42976fa7a9"
      },
      "execution_count": 46,
      "outputs": [
        {
          "output_type": "stream",
          "name": "stdout",
          "text": [
            "abccde\n"
          ]
        }
      ]
    },
    {
      "cell_type": "code",
      "source": [
        "for i in range(5):\n",
        "  print(i)"
      ],
      "metadata": {
        "colab": {
          "base_uri": "https://localhost:8080/"
        },
        "id": "FTeFOzg9Lbnu",
        "outputId": "310d81f4-4db3-43de-fb16-53a7697655e9"
      },
      "execution_count": 47,
      "outputs": [
        {
          "output_type": "stream",
          "name": "stdout",
          "text": [
            "0\n",
            "1\n",
            "2\n",
            "3\n",
            "4\n"
          ]
        }
      ]
    },
    {
      "cell_type": "code",
      "source": [
        "for i in range(5):\n",
        "  print(i, end=\"\")"
      ],
      "metadata": {
        "colab": {
          "base_uri": "https://localhost:8080/"
        },
        "id": "vDSZyKEiLfzE",
        "outputId": "58a48e65-8cee-4ee9-f274-c04b3900cb29"
      },
      "execution_count": 51,
      "outputs": [
        {
          "output_type": "stream",
          "name": "stdout",
          "text": [
            "01234"
          ]
        }
      ]
    },
    {
      "cell_type": "markdown",
      "source": [
        "#### f-string"
      ],
      "metadata": {
        "id": "g3SWWb89MW4J"
      }
    },
    {
      "cell_type": "code",
      "source": [
        "a = \"abc\"\n",
        "b = \"cde\"\n",
        "c = 123"
      ],
      "metadata": {
        "id": "Qo5JpZVZLjeB"
      },
      "execution_count": 54,
      "outputs": []
    },
    {
      "cell_type": "code",
      "source": [
        "print(f\"{a} {b} {c}\")"
      ],
      "metadata": {
        "colab": {
          "base_uri": "https://localhost:8080/"
        },
        "id": "yj0wX9fEMeh6",
        "outputId": "3b6f29d8-1f2e-412e-a6ac-605742d0847d"
      },
      "execution_count": 55,
      "outputs": [
        {
          "output_type": "stream",
          "name": "stdout",
          "text": [
            "abc cde 123\n"
          ]
        }
      ]
    },
    {
      "cell_type": "markdown",
      "source": [
        "#### string format"
      ],
      "metadata": {
        "id": "PoMw4unBNYtP"
      }
    },
    {
      "cell_type": "code",
      "source": [
        "print(\"{} {} {}\".format(a, b, c))"
      ],
      "metadata": {
        "colab": {
          "base_uri": "https://localhost:8080/"
        },
        "id": "VuQzNvQnMnxx",
        "outputId": "ec9c0d1b-d9af-417d-f7bb-fe1392ac4702"
      },
      "execution_count": 56,
      "outputs": [
        {
          "output_type": "stream",
          "name": "stdout",
          "text": [
            "abc cde 123\n"
          ]
        }
      ]
    },
    {
      "cell_type": "code",
      "source": [
        "print(\"{0} {1} {2}\".format(a, b, c))"
      ],
      "metadata": {
        "colab": {
          "base_uri": "https://localhost:8080/"
        },
        "id": "J7n-2TZXMyqm",
        "outputId": "e8a259f8-7b3b-4271-ce98-5dcdf43a9665"
      },
      "execution_count": 57,
      "outputs": [
        {
          "output_type": "stream",
          "name": "stdout",
          "text": [
            "abc cde 123\n"
          ]
        }
      ]
    },
    {
      "cell_type": "code",
      "source": [
        "print(\"{2} {1} {2}\".format(a, b, c))"
      ],
      "metadata": {
        "colab": {
          "base_uri": "https://localhost:8080/"
        },
        "id": "lWQpL7nQM4fu",
        "outputId": "372a2fab-685f-49c8-fcfd-737b9f7d153e"
      },
      "execution_count": 58,
      "outputs": [
        {
          "output_type": "stream",
          "name": "stdout",
          "text": [
            "123 cde 123\n"
          ]
        }
      ]
    },
    {
      "cell_type": "markdown",
      "source": [
        "#### string 常用的方法"
      ],
      "metadata": {
        "id": "_GojU0KKNpSt"
      }
    },
    {
      "cell_type": "code",
      "source": [
        "a = \"It's my dog!\""
      ],
      "metadata": {
        "id": "LHuiRPzhM7sg"
      },
      "execution_count": 59,
      "outputs": []
    },
    {
      "cell_type": "code",
      "source": [
        "a.split()"
      ],
      "metadata": {
        "colab": {
          "base_uri": "https://localhost:8080/"
        },
        "id": "ZX8xdbyEN0i-",
        "outputId": "5ee95d27-4471-44ee-9c73-b1c334d2be10"
      },
      "execution_count": 60,
      "outputs": [
        {
          "output_type": "execute_result",
          "data": {
            "text/plain": [
              "[\"It's\", 'my', 'dog!']"
            ]
          },
          "metadata": {},
          "execution_count": 60
        }
      ]
    },
    {
      "cell_type": "markdown",
      "source": [
        "## 字串 + 字典的應用\n",
        "\n",
        "(複習字典的使用)"
      ],
      "metadata": {
        "id": "KGhnuiNiOA6-"
      }
    },
    {
      "cell_type": "markdown",
      "source": [
        "定義三個指令：\n",
        "1. a name phonenumber ==> 在字典內加入電話號碼\n",
        "2. s name ==> 搜尋字典內特定人名的電話號碼\n",
        "3. q ==> 跳出迴圈\n"
      ],
      "metadata": {
        "id": "86QBvM_oOGE4"
      }
    },
    {
      "cell_type": "code",
      "source": [
        "z = {}"
      ],
      "metadata": {
        "id": "7Nxl0dC_Q0LQ"
      },
      "execution_count": 62,
      "outputs": []
    },
    {
      "cell_type": "code",
      "source": [
        "z['cat'] = \"貓咪\""
      ],
      "metadata": {
        "id": "Qt2qSebsQ22J"
      },
      "execution_count": 63,
      "outputs": []
    },
    {
      "cell_type": "code",
      "source": [
        "z['dog'] = '狗狗'"
      ],
      "metadata": {
        "id": "HxWN503MQ5hC"
      },
      "execution_count": 64,
      "outputs": []
    },
    {
      "cell_type": "code",
      "source": [
        "z"
      ],
      "metadata": {
        "colab": {
          "base_uri": "https://localhost:8080/"
        },
        "id": "aAbvddFHQ8LR",
        "outputId": "11eaa007-d01c-4d24-a084-204e92e8db5a"
      },
      "execution_count": 65,
      "outputs": [
        {
          "output_type": "execute_result",
          "data": {
            "text/plain": [
              "{'cat': '貓咪', 'dog': '狗狗'}"
            ]
          },
          "metadata": {},
          "execution_count": 65
        }
      ]
    },
    {
      "cell_type": "code",
      "source": [
        "z['cat']"
      ],
      "metadata": {
        "colab": {
          "base_uri": "https://localhost:8080/",
          "height": 36
        },
        "id": "2tFgdFQbQ-f1",
        "outputId": "0034c1be-0310-47c8-cd67-54db7a2b83aa"
      },
      "execution_count": 66,
      "outputs": [
        {
          "output_type": "execute_result",
          "data": {
            "text/plain": [
              "'貓咪'"
            ],
            "application/vnd.google.colaboratory.intrinsic+json": {
              "type": "string"
            }
          },
          "metadata": {},
          "execution_count": 66
        }
      ]
    },
    {
      "cell_type": "code",
      "source": [
        "data = {}\n",
        "\n",
        "while True:\n",
        "  x = input(\"請輸入指令：\")\n",
        "  xlist = x.split()\n",
        "  if xlist[0]=='a':\n",
        "    data[xlist[1]]=xlist[2]\n",
        "    print(f\"已將{xlist[1]}的電話號碼{xlist[2]}加入資料庫！\")\n",
        "  elif xlist[0]=='s':\n",
        "    if xlist[1] in data:\n",
        "      print(f\"{xlist[1]}的電話號碼是{data[xlist[1]]}\")\n",
        "    else:\n",
        "      print(f\"{xlist[1]}不在電話簿上！\")\n",
        "  elif xlist[0]=='q':\n",
        "    print(\"感謝您的使用！\")\n",
        "    break\n",
        "  "
      ],
      "metadata": {
        "colab": {
          "base_uri": "https://localhost:8080/"
        },
        "id": "1ScdZ8PmN4bM",
        "outputId": "27342e12-2bd8-419b-86fc-e0076bf090b6"
      },
      "execution_count": 70,
      "outputs": [
        {
          "output_type": "stream",
          "name": "stdout",
          "text": [
            "請輸入指令：a john 123\n",
            "已將john的電話號碼123加入資料庫！\n",
            "請輸入指令：a mary 456\n",
            "已將mary的電話號碼456加入資料庫！\n",
            "請輸入指令：a jack 789\n",
            "已將jack的電話號碼789加入資料庫！\n",
            "請輸入指令：s mary\n",
            "mary的電話號碼是456\n",
            "請輸入指令：s jack\n",
            "jack的電話號碼是789\n",
            "請輸入指令：s ross\n",
            "ross不在電話簿上！\n",
            "請輸入指令：s tom\n",
            "tom不在電話簿上！\n",
            "請輸入指令：q\n",
            "感謝您的使用！\n"
          ]
        }
      ]
    }
  ]
}